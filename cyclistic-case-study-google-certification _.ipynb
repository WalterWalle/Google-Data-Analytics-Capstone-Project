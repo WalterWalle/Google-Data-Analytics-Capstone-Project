{
 "cells": [
  {
   "cell_type": "markdown",
   "id": "8d0a355f",
   "metadata": {
    "papermill": {
     "duration": 0.015987,
     "end_time": "2023-02-15T09:41:50.109626",
     "exception": false,
     "start_time": "2023-02-15T09:41:50.093639",
     "status": "completed"
    },
    "tags": []
   },
   "source": [
    "## Cyclistic biking service case study\n",
    "## Walter Mudavanhu Nyamutamba\n",
    "## Data Analyst\n",
    "## 03/01/2023\n",
    "### Case Study: How Does a Bike-Share Navigate Speedy Success?¶"
   ]
  },
  {
   "cell_type": "markdown",
   "id": "c822d0ad",
   "metadata": {
    "papermill": {
     "duration": 0.01437,
     "end_time": "2023-02-15T09:41:50.137646",
     "exception": false,
     "start_time": "2023-02-15T09:41:50.123276",
     "status": "completed"
    },
    "tags": []
   },
   "source": [
    "# Introduction\n",
    "This is my work to solve the problem from Google Data Analytics Capstone: Complete a Case Study called \"Cyclistic\".\n",
    "\n",
    "I will follow six steps of data analysis process: \n",
    "#### Ask, \n",
    "#### Prepare, \n",
    "#### Process, \n",
    "#### Analyze, \n",
    "#### Share \n",
    "#### Act. \n",
    "\n",
    "#### Each step will follow the Case Study Roadmap:"
   ]
  },
  {
   "cell_type": "markdown",
   "id": "fd12ccfc",
   "metadata": {
    "papermill": {
     "duration": 0.014954,
     "end_time": "2023-02-15T09:41:50.166197",
     "exception": false,
     "start_time": "2023-02-15T09:41:50.151243",
     "status": "completed"
    },
    "tags": []
   },
   "source": [
    "# Content"
   ]
  },
  {
   "cell_type": "markdown",
   "id": "b0762496",
   "metadata": {
    "papermill": {
     "duration": 0.015289,
     "end_time": "2023-02-15T09:41:50.195793",
     "exception": false,
     "start_time": "2023-02-15T09:41:50.180504",
     "status": "completed"
    },
    "tags": []
   },
   "source": [
    "### About Dataset"
   ]
  },
  {
   "cell_type": "markdown",
   "id": "13d94fb6",
   "metadata": {
    "papermill": {
     "duration": 0.014446,
     "end_time": "2023-02-15T09:41:50.224974",
     "exception": false,
     "start_time": "2023-02-15T09:41:50.210528",
     "status": "completed"
    },
    "tags": []
   },
   "source": [
    "This dataset comes from the historical data files of the bike-sharing company that record the ride information of every single ride in terms of start/end time, start/end station, and rider's type/gender/age."
   ]
  },
  {
   "cell_type": "markdown",
   "id": "55966b5d",
   "metadata": {
    "papermill": {
     "duration": 0.014528,
     "end_time": "2023-02-15T09:41:50.254059",
     "exception": false,
     "start_time": "2023-02-15T09:41:50.239531",
     "status": "completed"
    },
    "tags": []
   },
   "source": [
    "## Acknowledgements\n",
    "Motivate International Inc. (“Motivate”) operates the City of Chicago’s (“City”) Divvy bicycle-sharing service. Motivate and the City are committed to supporting bicycling as an alternative transportation option. As part of that commitment, the City permits Motivate to make certain Divvy system data owned by the City (“Data”) available to the public."
   ]
  },
  {
   "cell_type": "markdown",
   "id": "d26ce64c",
   "metadata": {
    "papermill": {
     "duration": 0.014493,
     "end_time": "2023-02-15T09:41:50.283724",
     "exception": false,
     "start_time": "2023-02-15T09:41:50.269231",
     "status": "completed"
    },
    "tags": []
   },
   "source": [
    "## Goal of the project\n",
    "Understand how casual riders and annual members use Cyclistic differentily.\n",
    "From these insights, the team will design marketing strategy to convert casual riders into annual members\n",
    "##### How to maximize the number of annual members?\n",
    "\n"
   ]
  },
  {
   "cell_type": "markdown",
   "id": "937d2b55",
   "metadata": {
    "papermill": {
     "duration": 0.014731,
     "end_time": "2023-02-15T09:41:50.313198",
     "exception": false,
     "start_time": "2023-02-15T09:41:50.298467",
     "status": "completed"
    },
    "tags": []
   },
   "source": [
    "# ASK"
   ]
  },
  {
   "cell_type": "markdown",
   "id": "f5b244e2",
   "metadata": {
    "papermill": {
     "duration": 0.013445,
     "end_time": "2023-02-15T09:41:50.340689",
     "exception": false,
     "start_time": "2023-02-15T09:41:50.327244",
     "status": "completed"
    },
    "tags": []
   },
   "source": [
    "Scenario\n",
    "\n",
    "You are a junior data analyst working in the marketing analyst team at Cyclistic, a bike-share company in Chicago. The director of marketing believes the company’s future success depends on maximizing the number of annual memberships. Therefore, your team wants to understand how casual riders and annual members use Cyclistic bikes differently. From these insights, your team will design a new marketing strategy to convert casual riders into annual members. But first, Cyclistic executives must approve your recommendations, so they must be backed up with compelling data insights and professional data visualizations.\n",
    "\n",
    "\n",
    "Characters and teams   \n",
    "\n",
    " Cyclistic: A bike-share program that features more than 5,800 bicycles and 600 docking stations. Cyclistic sets itself apart by also offering reclining bikes, hand tricycles, and cargo bikes, making bike-share more inclusive to people with disabilities and riders who can’t use a standard two-wheeled bike. The majority of riders opt for traditional bikes; about 8% of riders use the assistive options. Cyclistic users are more likely to ride for leisure, but about 30% use them to commute to work each day.\n",
    " Lily Moreno: The director of marketing and your manager. Moreno is responsible for the development of campaignsand initiatives to promote the bike-share program. These may include email, social media, and other channels.\n",
    " Cyclistic marketing analytics team: A team of data analysts who are responsible for collecting, analyzing, and reporting data that helps guide Cyclistic marketing strategy. You joined this team six months ago and have been busy learning about Cyclistic’s mission and business goals — as well as how you, as a junior data analyst, can help Cyclistic achieve them.\n",
    " Cyclistic executive team: The notoriously detail-oriented executive team will decide whether to approve the recommended marketing program.\n",
    "\n",
    "\n",
    " About the company\n",
    "\n",
    " In 2016, Cyclistic launched a successful bike-share offering. Since then, the program has grown to a fleet of 5,824 bicycles that are geotracked and locked into a network of 692 stations across Chicago. The bikes can be unlocked from one station and returned to any other station in the system anytime.\n",
    "\n",
    "Until now, Cyclistic’s marketing strategy relied on building general awareness and appealing to broad consumer segments. One approach that helped make these things possible was the flexibility of its pricing plans: single-ride passes, full-day passes, and annual memberships. Customers who purchase single-ride or full-day passes are referred to as casual riders. Customers who purchase annual memberships are Cyclistic members.\n",
    "\n",
    "Cyclistic’s finance analysts have concluded that annual members are much more profitable than casual riders. Although the pricing flexibility helps Cyclistic attract more customers, Moreno believes that maximizing the number of annual members will be key to future growth. Rather than creating a marketing campaign that targets all-new customers, Moreno believes there is a very good chance to convert casual riders into members. She notes that casual riders are already aware of the Cyclistic program and have chosen Cyclistic for their mobility needs.\n",
    "\n",
    "Moreno has set a clear goal: Design marketing strategies aimed at converting casual riders into annual members. In order to do that, however, the marketing analyst team needs to better understand how annual members and casual riders differ, why casual riders would buy a membership, and how digital media could affect their marketing tactics. Moreno and her team are interested in analyzing the Cyclistic historical bike trip data to identify trends.\n"
   ]
  },
  {
   "cell_type": "markdown",
   "id": "20e9b393",
   "metadata": {
    "papermill": {
     "duration": 0.014831,
     "end_time": "2023-02-15T09:41:50.368938",
     "exception": false,
     "start_time": "2023-02-15T09:41:50.354107",
     "status": "completed"
    },
    "tags": []
   },
   "source": [
    "## Guiding questions\n",
    "What is the problem you are trying to solve?\n",
    "\n",
    "The main objective of this case study is to find the way to turn casual bike riders to annual members\n",
    "\n",
    "How can your insights drive business decisions?\n",
    "The insights will help the team increase the number of annual members."
   ]
  },
  {
   "cell_type": "markdown",
   "id": "fe65bea2",
   "metadata": {
    "papermill": {
     "duration": 0.013556,
     "end_time": "2023-02-15T09:41:50.396191",
     "exception": false,
     "start_time": "2023-02-15T09:41:50.382635",
     "status": "completed"
    },
    "tags": []
   },
   "source": [
    "## This report also seeks to identify the important stakeholders that are involved in the overall analysis.\n",
    "\n",
    "#### Stakeholders\n",
    "\n",
    "_cyclistic users_\n",
    "\n",
    "_director of marketing_\n",
    "\n",
    "_Cyclistic marketing team_\n",
    "\n",
    "_Cyclistic executive team_"
   ]
  },
  {
   "cell_type": "markdown",
   "id": "2177e7ba",
   "metadata": {
    "papermill": {
     "duration": 0.013721,
     "end_time": "2023-02-15T09:41:50.423854",
     "exception": false,
     "start_time": "2023-02-15T09:41:50.410133",
     "status": "completed"
    },
    "tags": []
   },
   "source": [
    "# Prepare\n",
    "\n",
    "This project will use dataset provided by Kaggle"
   ]
  },
  {
   "cell_type": "markdown",
   "id": "d8df3432",
   "metadata": {
    "papermill": {
     "duration": 0.013521,
     "end_time": "2023-02-15T09:41:50.451561",
     "exception": false,
     "start_time": "2023-02-15T09:41:50.438040",
     "status": "completed"
    },
    "tags": []
   },
   "source": [
    "### Guiding questions\n",
    "\n",
    "● Where is your data located?\n",
    "\n",
    "● How is the data organized?\n",
    "\n",
    "● Are there issues with bias or credibility in this data? Does your data ROCCC?\n",
    "\n",
    "● How are you addressing licensing, privacy, security, and accessibility?\n",
    "\n",
    "● How did you verify the data’s integrity?\n",
    "\n",
    "● How does it help you answer your question?\n",
    "\n",
    "● Are there any problems with the data?"
   ]
  },
  {
   "cell_type": "markdown",
   "id": "4ecc6baa",
   "metadata": {
    "papermill": {
     "duration": 0.014491,
     "end_time": "2023-02-15T09:41:50.479956",
     "exception": false,
     "start_time": "2023-02-15T09:41:50.465465",
     "status": "completed"
    },
    "tags": []
   },
   "source": [
    "Key tasks\n",
    "\n",
    "1. Download data and store it appropriately.\n",
    "\n",
    "2. Identify how it’s organized.\n",
    "\n",
    "3. Sort and filter the data.\n",
    "\n",
    "4. Determine the credibility of the data."
   ]
  },
  {
   "cell_type": "markdown",
   "id": "ab3aa9ca",
   "metadata": {
    "papermill": {
     "duration": 0.014996,
     "end_time": "2023-02-15T09:41:50.508550",
     "exception": false,
     "start_time": "2023-02-15T09:41:50.493554",
     "status": "completed"
    },
    "tags": []
   },
   "source": [
    "Deliverable\n",
    "\n",
    "A description of all data sources used"
   ]
  },
  {
   "cell_type": "markdown",
   "id": "30244e15",
   "metadata": {
    "papermill": {
     "duration": 0.014831,
     "end_time": "2023-02-15T09:41:50.537413",
     "exception": false,
     "start_time": "2023-02-15T09:41:50.522582",
     "status": "completed"
    },
    "tags": []
   },
   "source": [
    "# Process\n",
    "This step will cleanand make the dataset ready for the next phase: Analyses. And all the files will be merged into one file."
   ]
  },
  {
   "cell_type": "markdown",
   "id": "b3bdeff6",
   "metadata": {
    "papermill": {
     "duration": 0.015523,
     "end_time": "2023-02-15T09:41:50.567448",
     "exception": false,
     "start_time": "2023-02-15T09:41:50.551925",
     "status": "completed"
    },
    "tags": []
   },
   "source": [
    "## Load Packages"
   ]
  },
  {
   "cell_type": "code",
   "execution_count": 1,
   "id": "a5647dee",
   "metadata": {
    "execution": {
     "iopub.execute_input": "2023-02-15T09:41:50.601625Z",
     "iopub.status.busy": "2023-02-15T09:41:50.597142Z",
     "iopub.status.idle": "2023-02-15T09:41:52.304415Z",
     "shell.execute_reply": "2023-02-15T09:41:52.302513Z"
    },
    "papermill": {
     "duration": 1.726196,
     "end_time": "2023-02-15T09:41:52.307401",
     "exception": false,
     "start_time": "2023-02-15T09:41:50.581205",
     "status": "completed"
    },
    "tags": []
   },
   "outputs": [
    {
     "name": "stderr",
     "output_type": "stream",
     "text": [
      "── \u001b[1mAttaching packages\u001b[22m ─────────────────────────────────────── tidyverse 1.3.2 ──\n",
      "\u001b[32m✔\u001b[39m \u001b[34mggplot2\u001b[39m 3.3.6      \u001b[32m✔\u001b[39m \u001b[34mpurrr  \u001b[39m 0.3.5 \n",
      "\u001b[32m✔\u001b[39m \u001b[34mtibble \u001b[39m 3.1.8      \u001b[32m✔\u001b[39m \u001b[34mdplyr  \u001b[39m 1.0.10\n",
      "\u001b[32m✔\u001b[39m \u001b[34mtidyr  \u001b[39m 1.2.1      \u001b[32m✔\u001b[39m \u001b[34mstringr\u001b[39m 1.4.1 \n",
      "\u001b[32m✔\u001b[39m \u001b[34mreadr  \u001b[39m 2.1.3      \u001b[32m✔\u001b[39m \u001b[34mforcats\u001b[39m 0.5.2 \n",
      "── \u001b[1mConflicts\u001b[22m ────────────────────────────────────────── tidyverse_conflicts() ──\n",
      "\u001b[31m✖\u001b[39m \u001b[34mdplyr\u001b[39m::\u001b[32mfilter()\u001b[39m masks \u001b[34mstats\u001b[39m::filter()\n",
      "\u001b[31m✖\u001b[39m \u001b[34mdplyr\u001b[39m::\u001b[32mlag()\u001b[39m    masks \u001b[34mstats\u001b[39m::lag()\n"
     ]
    }
   ],
   "source": [
    "library(tidyverse)\n",
    "#tidyverse is standard data analyst library(data manipulation,exploration and visualisation)\n",
    "\n",
    "library(dplyr)\n",
    "#complete common data manipulation\n",
    "\n",
    "library(skimr)\n",
    "#helps in summarizing the data\n",
    "\n",
    "library(readr)\n",
    "#import csv files"
   ]
  },
  {
   "cell_type": "markdown",
   "id": "8958e683",
   "metadata": {
    "papermill": {
     "duration": 0.015113,
     "end_time": "2023-02-15T09:41:52.337546",
     "exception": false,
     "start_time": "2023-02-15T09:41:52.322433",
     "status": "completed"
    },
    "tags": []
   },
   "source": [
    "# Import data\n",
    "The data is for the year 2021"
   ]
  },
  {
   "cell_type": "code",
   "execution_count": 2,
   "id": "00167692",
   "metadata": {
    "execution": {
     "iopub.execute_input": "2023-02-15T09:41:52.404086Z",
     "iopub.status.busy": "2023-02-15T09:41:52.370519Z",
     "iopub.status.idle": "2023-02-15T09:43:47.660087Z",
     "shell.execute_reply": "2023-02-15T09:43:47.657764Z"
    },
    "papermill": {
     "duration": 115.310124,
     "end_time": "2023-02-15T09:43:47.663561",
     "exception": false,
     "start_time": "2023-02-15T09:41:52.353437",
     "status": "completed"
    },
    "tags": []
   },
   "outputs": [],
   "source": [
    "dat2021January <-read.csv('/kaggle/input/cyclistic-case-study-google-certificate/202101-divvy-tripdata/202101-divvy-tripdata.csv')\n",
    "dat2021February<-read.csv('/kaggle/input/cyclistic-case-study-google-certificate/202102-divvy-tripdata/202102-divvy-tripdata.csv')\n",
    "dat2021March<-read.csv('/kaggle/input/cyclistic-case-study-google-certificate/202103-divvy-tripdata/202103-divvy-tripdata.csv')\n",
    "dat2021April <-read.csv('/kaggle/input/cyclistic-case-study-google-certificate/202104-divvy-tripdata/202104-divvy-tripdata.csv')\n",
    "dat2021May <-read.csv('/kaggle/input/cyclistic-case-study-google-certificate/202105-divvy-tripdata/202105-divvy-tripdata.csv')\n",
    "dat2021June <- read.csv('/kaggle/input/cyclistic-case-study-google-certificate/202106-divvy-tripdata/202106-divvy-tripdata.csv')\n",
    "dat2021July <- read.csv('/kaggle/input/cyclistic-case-study-google-certificate/202107-divvy-tripdata/202107-divvy-tripdata.csv')\n",
    "dat2021August <-read.csv( '/kaggle/input/cyclistic-case-study-google-certificate/202108-divvy-tripdata/202108-divvy-tripdata.csv')\n",
    "dat2021September<- read.csv('/kaggle/input/cyclistic-case-study-google-certificate/202109-divvy-tripdata/202109-divvy-tripdata.csv')\n",
    "dat2021October <- read.csv('/kaggle/input/cyclistic-case-study-google-certificate/202110-divvy-tripdata/202110-divvy-tripdata.csv')\n",
    "dat2021November<-read.csv('/kaggle/input/cyclistic-case-study-google-certificate/202111-divvy-tripdata/202111-divvy-tripdata.csv')\n",
    "dat2021December<-read.csv('/kaggle/input/cyclistic-case-study-google-certificate/202112-divvy-tripdata/202112-divvy-tripdata.csv')"
   ]
  },
  {
   "cell_type": "markdown",
   "id": "27babbaa",
   "metadata": {
    "papermill": {
     "duration": 0.016489,
     "end_time": "2023-02-15T09:43:47.700136",
     "exception": false,
     "start_time": "2023-02-15T09:43:47.683647",
     "status": "completed"
    },
    "tags": []
   },
   "source": [
    "## Getting to know your data\n",
    "first check if our 12 datasets have matching fields and datatypes"
   ]
  },
  {
   "cell_type": "code",
   "execution_count": 3,
   "id": "64aff63d",
   "metadata": {
    "execution": {
     "iopub.execute_input": "2023-02-15T09:43:47.734450Z",
     "iopub.status.busy": "2023-02-15T09:43:47.732815Z",
     "iopub.status.idle": "2023-02-15T09:43:47.780985Z",
     "shell.execute_reply": "2023-02-15T09:43:47.777065Z"
    },
    "papermill": {
     "duration": 0.071418,
     "end_time": "2023-02-15T09:43:47.786839",
     "exception": false,
     "start_time": "2023-02-15T09:43:47.715421",
     "status": "completed"
    },
    "tags": []
   },
   "outputs": [
    {
     "name": "stdout",
     "output_type": "stream",
     "text": [
      "'data.frame':\t96834 obs. of  13 variables:\n",
      " $ ride_id           : chr  \"E19E6F1B8D4C42ED\" \"DC88F20C2C55F27F\" \"EC45C94683FE3F27\" \"4FA453A75AE377DB\" ...\n",
      " $ rideable_type     : chr  \"electric_bike\" \"electric_bike\" \"electric_bike\" \"electric_bike\" ...\n",
      " $ started_at        : chr  \"2021-01-23 16:14:19\" \"2021-01-27 18:43:08\" \"2021-01-21 22:35:54\" \"2021-01-07 13:31:13\" ...\n",
      " $ ended_at          : chr  \"2021-01-23 16:24:44\" \"2021-01-27 18:47:12\" \"2021-01-21 22:37:14\" \"2021-01-07 13:42:55\" ...\n",
      " $ start_station_name: chr  \"California Ave & Cortez St\" \"California Ave & Cortez St\" \"California Ave & Cortez St\" \"California Ave & Cortez St\" ...\n",
      " $ start_station_id  : chr  \"17660\" \"17660\" \"17660\" \"17660\" ...\n",
      " $ end_station_name  : chr  \"\" \"\" \"\" \"\" ...\n",
      " $ end_station_id    : chr  \"\" \"\" \"\" \"\" ...\n",
      " $ start_lat         : num  41.9 41.9 41.9 41.9 41.9 ...\n",
      " $ start_lng         : num  -87.7 -87.7 -87.7 -87.7 -87.7 ...\n",
      " $ end_lat           : num  41.9 41.9 41.9 41.9 41.9 ...\n",
      " $ end_lng           : num  -87.7 -87.7 -87.7 -87.7 -87.7 ...\n",
      " $ member_casual     : chr  \"member\" \"member\" \"member\" \"member\" ...\n"
     ]
    }
   ],
   "source": [
    "str(dat2021January)"
   ]
  },
  {
   "cell_type": "code",
   "execution_count": 4,
   "id": "d898e25f",
   "metadata": {
    "execution": {
     "iopub.execute_input": "2023-02-15T09:43:47.822818Z",
     "iopub.status.busy": "2023-02-15T09:43:47.820565Z",
     "iopub.status.idle": "2023-02-15T09:43:47.860114Z",
     "shell.execute_reply": "2023-02-15T09:43:47.857744Z"
    },
    "papermill": {
     "duration": 0.061272,
     "end_time": "2023-02-15T09:43:47.863759",
     "exception": false,
     "start_time": "2023-02-15T09:43:47.802487",
     "status": "completed"
    },
    "tags": []
   },
   "outputs": [
    {
     "name": "stdout",
     "output_type": "stream",
     "text": [
      "'data.frame':\t49622 obs. of  13 variables:\n",
      " $ ride_id           : chr  \"89E7AA6C29227EFF\" \"0FEFDE2603568365\" \"E6159D746B2DBB91\" \"B32D3199F1C2E75B\" ...\n",
      " $ rideable_type     : chr  \"classic_bike\" \"classic_bike\" \"electric_bike\" \"classic_bike\" ...\n",
      " $ started_at        : chr  \"2021-02-12 16:14:56\" \"2021-02-14 17:52:38\" \"2021-02-09 19:10:18\" \"2021-02-02 17:49:41\" ...\n",
      " $ ended_at          : chr  \"2021-02-12 16:21:43\" \"2021-02-14 18:12:09\" \"2021-02-09 19:19:10\" \"2021-02-02 17:54:06\" ...\n",
      " $ start_station_name: chr  \"Glenwood Ave & Touhy Ave\" \"Glenwood Ave & Touhy Ave\" \"Clark St & Lake St\" \"Wood St & Chicago Ave\" ...\n",
      " $ start_station_id  : chr  \"525\" \"525\" \"KA1503000012\" \"637\" ...\n",
      " $ end_station_name  : chr  \"Sheridan Rd & Columbia Ave\" \"Bosworth Ave & Howard St\" \"State St & Randolph St\" \"Honore St & Division St\" ...\n",
      " $ end_station_id    : chr  \"660\" \"16806\" \"TA1305000029\" \"TA1305000034\" ...\n",
      " $ start_lat         : num  42 42 41.9 41.9 41.8 ...\n",
      " $ start_lng         : num  -87.7 -87.7 -87.6 -87.7 -87.6 ...\n",
      " $ end_lat           : num  42 42 41.9 41.9 41.8 ...\n",
      " $ end_lng           : num  -87.7 -87.7 -87.6 -87.7 -87.6 ...\n",
      " $ member_casual     : chr  \"member\" \"casual\" \"member\" \"member\" ...\n"
     ]
    }
   ],
   "source": [
    "str(dat2021February)"
   ]
  },
  {
   "cell_type": "code",
   "execution_count": 5,
   "id": "a89eb7d1",
   "metadata": {
    "execution": {
     "iopub.execute_input": "2023-02-15T09:43:47.900480Z",
     "iopub.status.busy": "2023-02-15T09:43:47.898696Z",
     "iopub.status.idle": "2023-02-15T09:43:47.937203Z",
     "shell.execute_reply": "2023-02-15T09:43:47.934771Z"
    },
    "papermill": {
     "duration": 0.061227,
     "end_time": "2023-02-15T09:43:47.941729",
     "exception": false,
     "start_time": "2023-02-15T09:43:47.880502",
     "status": "completed"
    },
    "tags": []
   },
   "outputs": [
    {
     "name": "stdout",
     "output_type": "stream",
     "text": [
      "'data.frame':\t228496 obs. of  13 variables:\n",
      " $ ride_id           : chr  \"CFA86D4455AA1030\" \"30D9DC61227D1AF3\" \"846D87A15682A284\" \"994D05AA75A168F2\" ...\n",
      " $ rideable_type     : chr  \"classic_bike\" \"classic_bike\" \"classic_bike\" \"classic_bike\" ...\n",
      " $ started_at        : chr  \"2021-03-16 08:32:30\" \"2021-03-28 01:26:28\" \"2021-03-11 21:17:29\" \"2021-03-11 13:26:42\" ...\n",
      " $ ended_at          : chr  \"2021-03-16 08:36:34\" \"2021-03-28 01:36:55\" \"2021-03-11 21:33:53\" \"2021-03-11 13:55:41\" ...\n",
      " $ start_station_name: chr  \"Humboldt Blvd & Armitage Ave\" \"Humboldt Blvd & Armitage Ave\" \"Shields Ave & 28th Pl\" \"Winthrop Ave & Lawrence Ave\" ...\n",
      " $ start_station_id  : chr  \"15651\" \"15651\" \"15443\" \"TA1308000021\" ...\n",
      " $ end_station_name  : chr  \"Stave St & Armitage Ave\" \"Central Park Ave & Bloomingdale Ave\" \"Halsted St & 35th St\" \"Broadway & Sheridan Rd\" ...\n",
      " $ end_station_id    : chr  \"13266\" \"18017\" \"TA1308000043\" \"13323\" ...\n",
      " $ start_lat         : num  41.9 41.9 41.8 42 42 ...\n",
      " $ start_lng         : num  -87.7 -87.7 -87.6 -87.7 -87.7 ...\n",
      " $ end_lat           : num  41.9 41.9 41.8 42 42.1 ...\n",
      " $ end_lng           : num  -87.7 -87.7 -87.6 -87.6 -87.7 ...\n",
      " $ member_casual     : chr  \"casual\" \"casual\" \"casual\" \"casual\" ...\n"
     ]
    }
   ],
   "source": [
    "str(dat2021March)"
   ]
  },
  {
   "cell_type": "code",
   "execution_count": 6,
   "id": "54e578e1",
   "metadata": {
    "execution": {
     "iopub.execute_input": "2023-02-15T09:43:47.978135Z",
     "iopub.status.busy": "2023-02-15T09:43:47.976237Z",
     "iopub.status.idle": "2023-02-15T09:43:48.014592Z",
     "shell.execute_reply": "2023-02-15T09:43:48.011120Z"
    },
    "papermill": {
     "duration": 0.060982,
     "end_time": "2023-02-15T09:43:48.018430",
     "exception": false,
     "start_time": "2023-02-15T09:43:47.957448",
     "status": "completed"
    },
    "tags": []
   },
   "outputs": [
    {
     "name": "stdout",
     "output_type": "stream",
     "text": [
      "'data.frame':\t337230 obs. of  13 variables:\n",
      " $ ride_id           : chr  \"6C992BD37A98A63F\" \"1E0145613A209000\" \"E498E15508A80BAD\" \"1887262AD101C604\" ...\n",
      " $ rideable_type     : chr  \"classic_bike\" \"docked_bike\" \"docked_bike\" \"classic_bike\" ...\n",
      " $ started_at        : chr  \"2021-04-12 18:25:36\" \"2021-04-27 17:27:11\" \"2021-04-03 12:42:45\" \"2021-04-17 09:17:42\" ...\n",
      " $ ended_at          : chr  \"2021-04-12 18:56:55\" \"2021-04-27 18:31:29\" \"2021-04-07 11:40:24\" \"2021-04-17 09:42:48\" ...\n",
      " $ start_station_name: chr  \"State St & Pearson St\" \"Dorchester Ave & 49th St\" \"Loomis Blvd & 84th St\" \"Honore St & Division St\" ...\n",
      " $ start_station_id  : chr  \"TA1307000061\" \"KA1503000069\" \"20121\" \"TA1305000034\" ...\n",
      " $ end_station_name  : chr  \"Southport Ave & Waveland Ave\" \"Dorchester Ave & 49th St\" \"Loomis Blvd & 84th St\" \"Southport Ave & Waveland Ave\" ...\n",
      " $ end_station_id    : chr  \"13235\" \"KA1503000069\" \"20121\" \"13235\" ...\n",
      " $ start_lat         : num  41.9 41.8 41.7 41.9 41.7 ...\n",
      " $ start_lng         : num  -87.6 -87.6 -87.7 -87.7 -87.7 ...\n",
      " $ end_lat           : num  41.9 41.8 41.7 41.9 41.7 ...\n",
      " $ end_lng           : num  -87.7 -87.6 -87.7 -87.7 -87.7 ...\n",
      " $ member_casual     : chr  \"member\" \"casual\" \"casual\" \"member\" ...\n"
     ]
    }
   ],
   "source": [
    "str(dat2021April)"
   ]
  },
  {
   "cell_type": "code",
   "execution_count": 7,
   "id": "ffd24c6c",
   "metadata": {
    "execution": {
     "iopub.execute_input": "2023-02-15T09:43:48.063239Z",
     "iopub.status.busy": "2023-02-15T09:43:48.061568Z",
     "iopub.status.idle": "2023-02-15T09:43:48.095124Z",
     "shell.execute_reply": "2023-02-15T09:43:48.092546Z"
    },
    "papermill": {
     "duration": 0.063969,
     "end_time": "2023-02-15T09:43:48.098690",
     "exception": false,
     "start_time": "2023-02-15T09:43:48.034721",
     "status": "completed"
    },
    "tags": []
   },
   "outputs": [
    {
     "name": "stdout",
     "output_type": "stream",
     "text": [
      "'data.frame':\t531633 obs. of  13 variables:\n",
      " $ ride_id           : chr  \"C809ED75D6160B2A\" \"DD59FDCE0ACACAF3\" \"0AB83CB88C43EFC2\" \"7881AC6D39110C60\" ...\n",
      " $ rideable_type     : chr  \"electric_bike\" \"electric_bike\" \"electric_bike\" \"electric_bike\" ...\n",
      " $ started_at        : chr  \"2021-05-30 11:58:15\" \"2021-05-30 11:29:14\" \"2021-05-30 14:24:01\" \"2021-05-30 14:25:51\" ...\n",
      " $ ended_at          : chr  \"2021-05-30 12:10:39\" \"2021-05-30 12:14:09\" \"2021-05-30 14:25:13\" \"2021-05-30 14:41:04\" ...\n",
      " $ start_station_name: chr  \"\" \"\" \"\" \"\" ...\n",
      " $ start_station_id  : chr  \"\" \"\" \"\" \"\" ...\n",
      " $ end_station_name  : chr  \"\" \"\" \"\" \"\" ...\n",
      " $ end_station_id    : chr  \"\" \"\" \"\" \"\" ...\n",
      " $ start_lat         : num  41.9 41.9 41.9 41.9 41.9 ...\n",
      " $ start_lng         : num  -87.6 -87.6 -87.7 -87.7 -87.7 ...\n",
      " $ end_lat           : num  41.9 41.8 41.9 41.9 41.9 ...\n",
      " $ end_lng           : num  -87.6 -87.6 -87.7 -87.7 -87.7 ...\n",
      " $ member_casual     : chr  \"casual\" \"casual\" \"casual\" \"casual\" ...\n"
     ]
    }
   ],
   "source": [
    "str(dat2021May)"
   ]
  },
  {
   "cell_type": "code",
   "execution_count": 8,
   "id": "fa0b8f44",
   "metadata": {
    "execution": {
     "iopub.execute_input": "2023-02-15T09:43:48.135082Z",
     "iopub.status.busy": "2023-02-15T09:43:48.133231Z",
     "iopub.status.idle": "2023-02-15T09:43:48.165439Z",
     "shell.execute_reply": "2023-02-15T09:43:48.163156Z"
    },
    "papermill": {
     "duration": 0.054464,
     "end_time": "2023-02-15T09:43:48.169010",
     "exception": false,
     "start_time": "2023-02-15T09:43:48.114546",
     "status": "completed"
    },
    "tags": []
   },
   "outputs": [
    {
     "name": "stdout",
     "output_type": "stream",
     "text": [
      "'data.frame':\t729595 obs. of  13 variables:\n",
      " $ ride_id           : chr  \"99FEC93BA843FB20\" \"06048DCFC8520CAF\" \"9598066F68045DF2\" \"B03C0FE48C412214\" ...\n",
      " $ rideable_type     : chr  \"electric_bike\" \"electric_bike\" \"electric_bike\" \"electric_bike\" ...\n",
      " $ started_at        : chr  \"2021-06-13 14:31:28\" \"2021-06-04 11:18:02\" \"2021-06-04 09:49:35\" \"2021-06-03 19:56:05\" ...\n",
      " $ ended_at          : chr  \"2021-06-13 14:34:11\" \"2021-06-04 11:24:19\" \"2021-06-04 09:55:34\" \"2021-06-03 20:21:55\" ...\n",
      " $ start_station_name: chr  \"\" \"\" \"\" \"\" ...\n",
      " $ start_station_id  : chr  \"\" \"\" \"\" \"\" ...\n",
      " $ end_station_name  : chr  \"\" \"\" \"\" \"\" ...\n",
      " $ end_station_id    : chr  \"\" \"\" \"\" \"\" ...\n",
      " $ start_lat         : num  41.8 41.8 41.8 41.8 41.8 ...\n",
      " $ start_lng         : num  -87.6 -87.6 -87.6 -87.6 -87.6 ...\n",
      " $ end_lat           : num  41.8 41.8 41.8 41.8 41.8 ...\n",
      " $ end_lng           : num  -87.6 -87.6 -87.6 -87.6 -87.6 ...\n",
      " $ member_casual     : chr  \"member\" \"member\" \"member\" \"member\" ...\n"
     ]
    }
   ],
   "source": [
    "str(dat2021June)"
   ]
  },
  {
   "cell_type": "code",
   "execution_count": 9,
   "id": "5c71a488",
   "metadata": {
    "execution": {
     "iopub.execute_input": "2023-02-15T09:43:48.203686Z",
     "iopub.status.busy": "2023-02-15T09:43:48.201757Z",
     "iopub.status.idle": "2023-02-15T09:43:48.241618Z",
     "shell.execute_reply": "2023-02-15T09:43:48.238828Z"
    },
    "papermill": {
     "duration": 0.061273,
     "end_time": "2023-02-15T09:43:48.245622",
     "exception": false,
     "start_time": "2023-02-15T09:43:48.184349",
     "status": "completed"
    },
    "tags": []
   },
   "outputs": [
    {
     "name": "stdout",
     "output_type": "stream",
     "text": [
      "'data.frame':\t822410 obs. of  13 variables:\n",
      " $ ride_id           : chr  \"0A1B623926EF4E16\" \"B2D5583A5A5E76EE\" \"6F264597DDBF427A\" \"379B58EAB20E8AA5\" ...\n",
      " $ rideable_type     : chr  \"docked_bike\" \"classic_bike\" \"classic_bike\" \"classic_bike\" ...\n",
      " $ started_at        : chr  \"2021-07-02 14:44:36\" \"2021-07-07 16:57:42\" \"2021-07-25 11:30:55\" \"2021-07-08 22:08:30\" ...\n",
      " $ ended_at          : chr  \"2021-07-02 15:19:58\" \"2021-07-07 17:16:09\" \"2021-07-25 11:48:45\" \"2021-07-08 22:23:32\" ...\n",
      " $ start_station_name: chr  \"Michigan Ave & Washington St\" \"California Ave & Cortez St\" \"Wabash Ave & 16th St\" \"California Ave & Cortez St\" ...\n",
      " $ start_station_id  : chr  \"13001\" \"17660\" \"SL-012\" \"17660\" ...\n",
      " $ end_station_name  : chr  \"Halsted St & North Branch St\" \"Wood St & Hubbard St\" \"Rush St & Hubbard St\" \"Carpenter St & Huron St\" ...\n",
      " $ end_station_id    : chr  \"KA1504000117\" \"13432\" \"KA1503000044\" \"13196\" ...\n",
      " $ start_lat         : num  41.9 41.9 41.9 41.9 41.9 ...\n",
      " $ start_lng         : num  -87.6 -87.7 -87.6 -87.7 -87.7 ...\n",
      " $ end_lat           : num  41.9 41.9 41.9 41.9 41.9 ...\n",
      " $ end_lng           : num  -87.6 -87.7 -87.6 -87.7 -87.7 ...\n",
      " $ member_casual     : chr  \"casual\" \"casual\" \"member\" \"member\" ...\n"
     ]
    }
   ],
   "source": [
    "str(dat2021July)"
   ]
  },
  {
   "cell_type": "code",
   "execution_count": 10,
   "id": "aed3f4b1",
   "metadata": {
    "execution": {
     "iopub.execute_input": "2023-02-15T09:43:48.281836Z",
     "iopub.status.busy": "2023-02-15T09:43:48.279285Z",
     "iopub.status.idle": "2023-02-15T09:43:48.317110Z",
     "shell.execute_reply": "2023-02-15T09:43:48.313719Z"
    },
    "papermill": {
     "duration": 0.059119,
     "end_time": "2023-02-15T09:43:48.320688",
     "exception": false,
     "start_time": "2023-02-15T09:43:48.261569",
     "status": "completed"
    },
    "tags": []
   },
   "outputs": [
    {
     "name": "stdout",
     "output_type": "stream",
     "text": [
      "'data.frame':\t804352 obs. of  13 variables:\n",
      " $ ride_id           : chr  \"99103BB87CC6C1BB\" \"EAFCCCFB0A3FC5A1\" \"9EF4F46C57AD234D\" \"5834D3208BFAF1DA\" ...\n",
      " $ rideable_type     : chr  \"electric_bike\" \"electric_bike\" \"electric_bike\" \"electric_bike\" ...\n",
      " $ started_at        : chr  \"2021-08-10 17:15:49\" \"2021-08-10 17:23:14\" \"2021-08-21 02:34:23\" \"2021-08-21 06:52:55\" ...\n",
      " $ ended_at          : chr  \"2021-08-10 17:22:44\" \"2021-08-10 17:39:24\" \"2021-08-21 02:50:36\" \"2021-08-21 07:08:13\" ...\n",
      " $ start_station_name: chr  \"\" \"\" \"\" \"\" ...\n",
      " $ start_station_id  : chr  \"\" \"\" \"\" \"\" ...\n",
      " $ end_station_name  : chr  \"\" \"\" \"\" \"\" ...\n",
      " $ end_station_id    : chr  \"\" \"\" \"\" \"\" ...\n",
      " $ start_lat         : num  41.8 41.8 42 42 41.8 ...\n",
      " $ start_lng         : num  -87.7 -87.7 -87.7 -87.7 -87.6 ...\n",
      " $ end_lat           : num  41.8 41.8 42 42 41.8 ...\n",
      " $ end_lng           : num  -87.7 -87.6 -87.7 -87.7 -87.6 ...\n",
      " $ member_casual     : chr  \"member\" \"member\" \"member\" \"member\" ...\n"
     ]
    }
   ],
   "source": [
    "str(dat2021August)"
   ]
  },
  {
   "cell_type": "code",
   "execution_count": 11,
   "id": "d6e1675a",
   "metadata": {
    "execution": {
     "iopub.execute_input": "2023-02-15T09:43:48.354188Z",
     "iopub.status.busy": "2023-02-15T09:43:48.352532Z",
     "iopub.status.idle": "2023-02-15T09:43:48.384070Z",
     "shell.execute_reply": "2023-02-15T09:43:48.381937Z"
    },
    "papermill": {
     "duration": 0.050964,
     "end_time": "2023-02-15T09:43:48.386891",
     "exception": false,
     "start_time": "2023-02-15T09:43:48.335927",
     "status": "completed"
    },
    "tags": []
   },
   "outputs": [
    {
     "name": "stdout",
     "output_type": "stream",
     "text": [
      "'data.frame':\t756147 obs. of  13 variables:\n",
      " $ ride_id           : chr  \"9DC7B962304CBFD8\" \"F930E2C6872D6B32\" \"6EF72137900BB910\" \"78D1DE133B3DBF55\" ...\n",
      " $ rideable_type     : chr  \"electric_bike\" \"electric_bike\" \"electric_bike\" \"electric_bike\" ...\n",
      " $ started_at        : chr  \"2021-09-28 16:07:10\" \"2021-09-28 14:24:51\" \"2021-09-28 00:20:16\" \"2021-09-28 14:51:17\" ...\n",
      " $ ended_at          : chr  \"2021-09-28 16:09:54\" \"2021-09-28 14:40:05\" \"2021-09-28 00:23:57\" \"2021-09-28 15:00:06\" ...\n",
      " $ start_station_name: chr  \"\" \"\" \"\" \"\" ...\n",
      " $ start_station_id  : chr  \"\" \"\" \"\" \"\" ...\n",
      " $ end_station_name  : chr  \"\" \"\" \"\" \"\" ...\n",
      " $ end_station_id    : chr  \"\" \"\" \"\" \"\" ...\n",
      " $ start_lat         : num  41.9 41.9 41.8 41.8 41.9 ...\n",
      " $ start_lng         : num  -87.7 -87.6 -87.7 -87.7 -87.7 ...\n",
      " $ end_lat           : num  41.9 42 41.8 41.8 41.9 ...\n",
      " $ end_lng           : num  -87.7 -87.7 -87.7 -87.7 -87.7 ...\n",
      " $ member_casual     : chr  \"casual\" \"casual\" \"casual\" \"casual\" ...\n"
     ]
    }
   ],
   "source": [
    "str(dat2021September)"
   ]
  },
  {
   "cell_type": "code",
   "execution_count": 12,
   "id": "a5cdf9b6",
   "metadata": {
    "execution": {
     "iopub.execute_input": "2023-02-15T09:43:48.422215Z",
     "iopub.status.busy": "2023-02-15T09:43:48.420467Z",
     "iopub.status.idle": "2023-02-15T09:43:48.451439Z",
     "shell.execute_reply": "2023-02-15T09:43:48.449509Z"
    },
    "papermill": {
     "duration": 0.052028,
     "end_time": "2023-02-15T09:43:48.455193",
     "exception": false,
     "start_time": "2023-02-15T09:43:48.403165",
     "status": "completed"
    },
    "tags": []
   },
   "outputs": [
    {
     "name": "stdout",
     "output_type": "stream",
     "text": [
      "'data.frame':\t756147 obs. of  13 variables:\n",
      " $ ride_id           : chr  \"9DC7B962304CBFD8\" \"F930E2C6872D6B32\" \"6EF72137900BB910\" \"78D1DE133B3DBF55\" ...\n",
      " $ rideable_type     : chr  \"electric_bike\" \"electric_bike\" \"electric_bike\" \"electric_bike\" ...\n",
      " $ started_at        : chr  \"2021-09-28 16:07:10\" \"2021-09-28 14:24:51\" \"2021-09-28 00:20:16\" \"2021-09-28 14:51:17\" ...\n",
      " $ ended_at          : chr  \"2021-09-28 16:09:54\" \"2021-09-28 14:40:05\" \"2021-09-28 00:23:57\" \"2021-09-28 15:00:06\" ...\n",
      " $ start_station_name: chr  \"\" \"\" \"\" \"\" ...\n",
      " $ start_station_id  : chr  \"\" \"\" \"\" \"\" ...\n",
      " $ end_station_name  : chr  \"\" \"\" \"\" \"\" ...\n",
      " $ end_station_id    : chr  \"\" \"\" \"\" \"\" ...\n",
      " $ start_lat         : num  41.9 41.9 41.8 41.8 41.9 ...\n",
      " $ start_lng         : num  -87.7 -87.6 -87.7 -87.7 -87.7 ...\n",
      " $ end_lat           : num  41.9 42 41.8 41.8 41.9 ...\n",
      " $ end_lng           : num  -87.7 -87.7 -87.7 -87.7 -87.7 ...\n",
      " $ member_casual     : chr  \"casual\" \"casual\" \"casual\" \"casual\" ...\n"
     ]
    }
   ],
   "source": [
    "str(dat2021September)"
   ]
  },
  {
   "cell_type": "code",
   "execution_count": 13,
   "id": "06f6b917",
   "metadata": {
    "execution": {
     "iopub.execute_input": "2023-02-15T09:43:48.491018Z",
     "iopub.status.busy": "2023-02-15T09:43:48.489038Z",
     "iopub.status.idle": "2023-02-15T09:43:48.523223Z",
     "shell.execute_reply": "2023-02-15T09:43:48.521020Z"
    },
    "papermill": {
     "duration": 0.056775,
     "end_time": "2023-02-15T09:43:48.527130",
     "exception": false,
     "start_time": "2023-02-15T09:43:48.470355",
     "status": "completed"
    },
    "tags": []
   },
   "outputs": [
    {
     "name": "stdout",
     "output_type": "stream",
     "text": [
      "'data.frame':\t631226 obs. of  13 variables:\n",
      " $ ride_id           : chr  \"620BC6107255BF4C\" \"4471C70731AB2E45\" \"26CA69D43D15EE14\" \"362947F0437E1514\" ...\n",
      " $ rideable_type     : chr  \"electric_bike\" \"electric_bike\" \"electric_bike\" \"electric_bike\" ...\n",
      " $ started_at        : chr  \"2021-10-22 12:46:42\" \"2021-10-21 09:12:37\" \"2021-10-16 16:28:39\" \"2021-10-16 16:17:48\" ...\n",
      " $ ended_at          : chr  \"2021-10-22 12:49:50\" \"2021-10-21 09:14:14\" \"2021-10-16 16:36:26\" \"2021-10-16 16:19:03\" ...\n",
      " $ start_station_name: chr  \"Kingsbury St & Kinzie St\" \"\" \"\" \"\" ...\n",
      " $ start_station_id  : chr  \"KA1503000043\" \"\" \"\" \"\" ...\n",
      " $ end_station_name  : chr  \"\" \"\" \"\" \"\" ...\n",
      " $ end_station_id    : chr  \"\" \"\" \"\" \"\" ...\n",
      " $ start_lat         : num  41.9 41.9 41.9 41.9 41.9 ...\n",
      " $ start_lng         : num  -87.6 -87.7 -87.7 -87.7 -87.7 ...\n",
      " $ end_lat           : num  41.9 41.9 41.9 41.9 41.9 ...\n",
      " $ end_lng           : num  -87.6 -87.7 -87.7 -87.7 -87.7 ...\n",
      " $ member_casual     : chr  \"member\" \"member\" \"member\" \"member\" ...\n"
     ]
    }
   ],
   "source": [
    "str(dat2021October)"
   ]
  },
  {
   "cell_type": "code",
   "execution_count": 14,
   "id": "905b1e1d",
   "metadata": {
    "execution": {
     "iopub.execute_input": "2023-02-15T09:43:48.563465Z",
     "iopub.status.busy": "2023-02-15T09:43:48.561713Z",
     "iopub.status.idle": "2023-02-15T09:43:48.594305Z",
     "shell.execute_reply": "2023-02-15T09:43:48.592367Z"
    },
    "papermill": {
     "duration": 0.053835,
     "end_time": "2023-02-15T09:43:48.597396",
     "exception": false,
     "start_time": "2023-02-15T09:43:48.543561",
     "status": "completed"
    },
    "tags": []
   },
   "outputs": [
    {
     "name": "stdout",
     "output_type": "stream",
     "text": [
      "'data.frame':\t359978 obs. of  13 variables:\n",
      " $ ride_id           : chr  \"7C00A93E10556E47\" \"90854840DFD508BA\" \"0A7D10CDD144061C\" \"2F3BE33085BCFF02\" ...\n",
      " $ rideable_type     : chr  \"electric_bike\" \"electric_bike\" \"electric_bike\" \"electric_bike\" ...\n",
      " $ started_at        : chr  \"2021-11-27 13:27:38\" \"2021-11-27 13:38:25\" \"2021-11-26 22:03:34\" \"2021-11-27 09:56:49\" ...\n",
      " $ ended_at          : chr  \"2021-11-27 13:46:38\" \"2021-11-27 13:56:10\" \"2021-11-26 22:05:56\" \"2021-11-27 10:01:50\" ...\n",
      " $ start_station_name: chr  \"\" \"\" \"\" \"\" ...\n",
      " $ start_station_id  : chr  \"\" \"\" \"\" \"\" ...\n",
      " $ end_station_name  : chr  \"\" \"\" \"\" \"\" ...\n",
      " $ end_station_id    : chr  \"\" \"\" \"\" \"\" ...\n",
      " $ start_lat         : num  41.9 42 42 41.9 41.9 ...\n",
      " $ start_lng         : num  -87.7 -87.7 -87.7 -87.8 -87.6 ...\n",
      " $ end_lat           : num  42 41.9 42 41.9 41.9 ...\n",
      " $ end_lng           : num  -87.7 -87.7 -87.7 -87.8 -87.6 ...\n",
      " $ member_casual     : chr  \"casual\" \"casual\" \"casual\" \"casual\" ...\n"
     ]
    }
   ],
   "source": [
    "str(dat2021November)"
   ]
  },
  {
   "cell_type": "code",
   "execution_count": 15,
   "id": "1bbe9ab7",
   "metadata": {
    "execution": {
     "iopub.execute_input": "2023-02-15T09:43:48.633523Z",
     "iopub.status.busy": "2023-02-15T09:43:48.631903Z",
     "iopub.status.idle": "2023-02-15T09:43:48.667954Z",
     "shell.execute_reply": "2023-02-15T09:43:48.665376Z"
    },
    "papermill": {
     "duration": 0.057543,
     "end_time": "2023-02-15T09:43:48.671123",
     "exception": false,
     "start_time": "2023-02-15T09:43:48.613580",
     "status": "completed"
    },
    "tags": []
   },
   "outputs": [
    {
     "name": "stdout",
     "output_type": "stream",
     "text": [
      "'data.frame':\t247540 obs. of  13 variables:\n",
      " $ ride_id           : chr  \"46F8167220E4431F\" \"73A77762838B32FD\" \"4CF42452054F59C5\" \"3278BA87BF698339\" ...\n",
      " $ rideable_type     : chr  \"electric_bike\" \"electric_bike\" \"electric_bike\" \"classic_bike\" ...\n",
      " $ started_at        : chr  \"2021-12-07 15:06:07\" \"2021-12-11 03:43:29\" \"2021-12-15 23:10:28\" \"2021-12-26 16:16:10\" ...\n",
      " $ ended_at          : chr  \"2021-12-07 15:13:42\" \"2021-12-11 04:10:23\" \"2021-12-15 23:23:14\" \"2021-12-26 16:30:53\" ...\n",
      " $ start_station_name: chr  \"Laflin St & Cullerton St\" \"LaSalle Dr & Huron St\" \"Halsted St & North Branch St\" \"Halsted St & North Branch St\" ...\n",
      " $ start_station_id  : chr  \"13307\" \"KP1705001026\" \"KA1504000117\" \"KA1504000117\" ...\n",
      " $ end_station_name  : chr  \"Morgan St & Polk St\" \"Clarendon Ave & Leland Ave\" \"Broadway & Barry Ave\" \"LaSalle Dr & Huron St\" ...\n",
      " $ end_station_id    : chr  \"TA1307000130\" \"TA1307000119\" \"13137\" \"KP1705001026\" ...\n",
      " $ start_lat         : num  41.9 41.9 41.9 41.9 41.9 ...\n",
      " $ start_lng         : num  -87.7 -87.6 -87.6 -87.6 -87.7 ...\n",
      " $ end_lat           : num  41.9 42 41.9 41.9 41.9 ...\n",
      " $ end_lng           : num  -87.7 -87.7 -87.6 -87.6 -87.6 ...\n",
      " $ member_casual     : chr  \"member\" \"casual\" \"member\" \"member\" ...\n"
     ]
    }
   ],
   "source": [
    "str(dat2021December)"
   ]
  },
  {
   "cell_type": "markdown",
   "id": "7f11e17c",
   "metadata": {
    "papermill": {
     "duration": 0.01679,
     "end_time": "2023-02-15T09:43:48.749956",
     "exception": false,
     "start_time": "2023-02-15T09:43:48.733166",
     "status": "completed"
    },
    "tags": []
   },
   "source": [
    "## Pre-analysis on January- December data.\n",
    "The twelve(12) independent datasets have the same column names,column names and \n",
    "\n",
    "The next step is to combine the twelve(12) independent dataframes into a single dataframe"
   ]
  },
  {
   "cell_type": "code",
   "execution_count": 16,
   "id": "262d1d31",
   "metadata": {
    "execution": {
     "iopub.execute_input": "2023-02-15T09:43:48.785551Z",
     "iopub.status.busy": "2023-02-15T09:43:48.783892Z",
     "iopub.status.idle": "2023-02-15T09:44:25.233955Z",
     "shell.execute_reply": "2023-02-15T09:44:25.232048Z"
    },
    "papermill": {
     "duration": 36.472914,
     "end_time": "2023-02-15T09:44:25.238767",
     "exception": false,
     "start_time": "2023-02-15T09:43:48.765853",
     "status": "completed"
    },
    "tags": []
   },
   "outputs": [],
   "source": [
    "datfill<- rbind(dat2021January,dat2021February,dat2021March,dat2021April,dat2021May,dat2021June,dat2021July,dat2021August,dat2021September,dat2021October,dat2021November,dat2021December)"
   ]
  },
  {
   "cell_type": "markdown",
   "id": "cc909561",
   "metadata": {
    "papermill": {
     "duration": 0.016627,
     "end_time": "2023-02-15T09:44:25.271373",
     "exception": false,
     "start_time": "2023-02-15T09:44:25.254746",
     "status": "completed"
    },
    "tags": []
   },
   "source": [
    "## Getting to know your data in detail"
   ]
  },
  {
   "cell_type": "code",
   "execution_count": 17,
   "id": "bcade5aa",
   "metadata": {
    "execution": {
     "iopub.execute_input": "2023-02-15T09:44:25.306890Z",
     "iopub.status.busy": "2023-02-15T09:44:25.305254Z",
     "iopub.status.idle": "2023-02-15T09:44:25.327046Z",
     "shell.execute_reply": "2023-02-15T09:44:25.325239Z"
    },
    "papermill": {
     "duration": 0.043072,
     "end_time": "2023-02-15T09:44:25.329945",
     "exception": false,
     "start_time": "2023-02-15T09:44:25.286873",
     "status": "completed"
    },
    "tags": []
   },
   "outputs": [
    {
     "data": {
      "text/html": [
       "<style>\n",
       ".list-inline {list-style: none; margin:0; padding: 0}\n",
       ".list-inline>li {display: inline-block}\n",
       ".list-inline>li:not(:last-child)::after {content: \"\\00b7\"; padding: 0 .5ex}\n",
       "</style>\n",
       "<ol class=list-inline><li>'ride_id'</li><li>'rideable_type'</li><li>'started_at'</li><li>'ended_at'</li><li>'start_station_name'</li><li>'start_station_id'</li><li>'end_station_name'</li><li>'end_station_id'</li><li>'start_lat'</li><li>'start_lng'</li><li>'end_lat'</li><li>'end_lng'</li><li>'member_casual'</li></ol>\n"
      ],
      "text/latex": [
       "\\begin{enumerate*}\n",
       "\\item 'ride\\_id'\n",
       "\\item 'rideable\\_type'\n",
       "\\item 'started\\_at'\n",
       "\\item 'ended\\_at'\n",
       "\\item 'start\\_station\\_name'\n",
       "\\item 'start\\_station\\_id'\n",
       "\\item 'end\\_station\\_name'\n",
       "\\item 'end\\_station\\_id'\n",
       "\\item 'start\\_lat'\n",
       "\\item 'start\\_lng'\n",
       "\\item 'end\\_lat'\n",
       "\\item 'end\\_lng'\n",
       "\\item 'member\\_casual'\n",
       "\\end{enumerate*}\n"
      ],
      "text/markdown": [
       "1. 'ride_id'\n",
       "2. 'rideable_type'\n",
       "3. 'started_at'\n",
       "4. 'ended_at'\n",
       "5. 'start_station_name'\n",
       "6. 'start_station_id'\n",
       "7. 'end_station_name'\n",
       "8. 'end_station_id'\n",
       "9. 'start_lat'\n",
       "10. 'start_lng'\n",
       "11. 'end_lat'\n",
       "12. 'end_lng'\n",
       "13. 'member_casual'\n",
       "\n",
       "\n"
      ],
      "text/plain": [
       " [1] \"ride_id\"            \"rideable_type\"      \"started_at\"        \n",
       " [4] \"ended_at\"           \"start_station_name\" \"start_station_id\"  \n",
       " [7] \"end_station_name\"   \"end_station_id\"     \"start_lat\"         \n",
       "[10] \"start_lng\"          \"end_lat\"            \"end_lng\"           \n",
       "[13] \"member_casual\"     "
      ]
     },
     "metadata": {},
     "output_type": "display_data"
    }
   ],
   "source": [
    "colnames(datfill)"
   ]
  },
  {
   "cell_type": "code",
   "execution_count": 18,
   "id": "b3618a5b",
   "metadata": {
    "execution": {
     "iopub.execute_input": "2023-02-15T09:44:25.365683Z",
     "iopub.status.busy": "2023-02-15T09:44:25.364046Z",
     "iopub.status.idle": "2023-02-15T09:44:25.397771Z",
     "shell.execute_reply": "2023-02-15T09:44:25.395928Z"
    },
    "papermill": {
     "duration": 0.054852,
     "end_time": "2023-02-15T09:44:25.400383",
     "exception": false,
     "start_time": "2023-02-15T09:44:25.345531",
     "status": "completed"
    },
    "tags": []
   },
   "outputs": [
    {
     "data": {
      "text/html": [
       "<table class=\"dataframe\">\n",
       "<caption>A data.frame: 6 × 13</caption>\n",
       "<thead>\n",
       "\t<tr><th></th><th scope=col>ride_id</th><th scope=col>rideable_type</th><th scope=col>started_at</th><th scope=col>ended_at</th><th scope=col>start_station_name</th><th scope=col>start_station_id</th><th scope=col>end_station_name</th><th scope=col>end_station_id</th><th scope=col>start_lat</th><th scope=col>start_lng</th><th scope=col>end_lat</th><th scope=col>end_lng</th><th scope=col>member_casual</th></tr>\n",
       "\t<tr><th></th><th scope=col>&lt;chr&gt;</th><th scope=col>&lt;chr&gt;</th><th scope=col>&lt;chr&gt;</th><th scope=col>&lt;chr&gt;</th><th scope=col>&lt;chr&gt;</th><th scope=col>&lt;chr&gt;</th><th scope=col>&lt;chr&gt;</th><th scope=col>&lt;chr&gt;</th><th scope=col>&lt;dbl&gt;</th><th scope=col>&lt;dbl&gt;</th><th scope=col>&lt;dbl&gt;</th><th scope=col>&lt;dbl&gt;</th><th scope=col>&lt;chr&gt;</th></tr>\n",
       "</thead>\n",
       "<tbody>\n",
       "\t<tr><th scope=row>1</th><td>E19E6F1B8D4C42ED</td><td>electric_bike</td><td>2021-01-23 16:14:19</td><td>2021-01-23 16:24:44</td><td>California Ave &amp; Cortez St</td><td>17660</td><td></td><td></td><td>41.90034</td><td>-87.69674</td><td>41.89</td><td>-87.72</td><td>member</td></tr>\n",
       "\t<tr><th scope=row>2</th><td>DC88F20C2C55F27F</td><td>electric_bike</td><td>2021-01-27 18:43:08</td><td>2021-01-27 18:47:12</td><td>California Ave &amp; Cortez St</td><td>17660</td><td></td><td></td><td>41.90033</td><td>-87.69671</td><td>41.90</td><td>-87.69</td><td>member</td></tr>\n",
       "\t<tr><th scope=row>3</th><td>EC45C94683FE3F27</td><td>electric_bike</td><td>2021-01-21 22:35:54</td><td>2021-01-21 22:37:14</td><td>California Ave &amp; Cortez St</td><td>17660</td><td></td><td></td><td>41.90031</td><td>-87.69664</td><td>41.90</td><td>-87.70</td><td>member</td></tr>\n",
       "\t<tr><th scope=row>4</th><td>4FA453A75AE377DB</td><td>electric_bike</td><td>2021-01-07 13:31:13</td><td>2021-01-07 13:42:55</td><td>California Ave &amp; Cortez St</td><td>17660</td><td></td><td></td><td>41.90040</td><td>-87.69666</td><td>41.92</td><td>-87.69</td><td>member</td></tr>\n",
       "\t<tr><th scope=row>5</th><td>BE5E8EB4E7263A0B</td><td>electric_bike</td><td>2021-01-23 02:24:02</td><td>2021-01-23 02:24:45</td><td>California Ave &amp; Cortez St</td><td>17660</td><td></td><td></td><td>41.90033</td><td>-87.69670</td><td>41.90</td><td>-87.70</td><td>casual</td></tr>\n",
       "\t<tr><th scope=row>6</th><td>5D8969F88C773979</td><td>electric_bike</td><td>2021-01-09 14:24:07</td><td>2021-01-09 15:17:54</td><td>California Ave &amp; Cortez St</td><td>17660</td><td></td><td></td><td>41.90041</td><td>-87.69676</td><td>41.94</td><td>-87.71</td><td>casual</td></tr>\n",
       "</tbody>\n",
       "</table>\n"
      ],
      "text/latex": [
       "A data.frame: 6 × 13\n",
       "\\begin{tabular}{r|lllllllllllll}\n",
       "  & ride\\_id & rideable\\_type & started\\_at & ended\\_at & start\\_station\\_name & start\\_station\\_id & end\\_station\\_name & end\\_station\\_id & start\\_lat & start\\_lng & end\\_lat & end\\_lng & member\\_casual\\\\\n",
       "  & <chr> & <chr> & <chr> & <chr> & <chr> & <chr> & <chr> & <chr> & <dbl> & <dbl> & <dbl> & <dbl> & <chr>\\\\\n",
       "\\hline\n",
       "\t1 & E19E6F1B8D4C42ED & electric\\_bike & 2021-01-23 16:14:19 & 2021-01-23 16:24:44 & California Ave \\& Cortez St & 17660 &  &  & 41.90034 & -87.69674 & 41.89 & -87.72 & member\\\\\n",
       "\t2 & DC88F20C2C55F27F & electric\\_bike & 2021-01-27 18:43:08 & 2021-01-27 18:47:12 & California Ave \\& Cortez St & 17660 &  &  & 41.90033 & -87.69671 & 41.90 & -87.69 & member\\\\\n",
       "\t3 & EC45C94683FE3F27 & electric\\_bike & 2021-01-21 22:35:54 & 2021-01-21 22:37:14 & California Ave \\& Cortez St & 17660 &  &  & 41.90031 & -87.69664 & 41.90 & -87.70 & member\\\\\n",
       "\t4 & 4FA453A75AE377DB & electric\\_bike & 2021-01-07 13:31:13 & 2021-01-07 13:42:55 & California Ave \\& Cortez St & 17660 &  &  & 41.90040 & -87.69666 & 41.92 & -87.69 & member\\\\\n",
       "\t5 & BE5E8EB4E7263A0B & electric\\_bike & 2021-01-23 02:24:02 & 2021-01-23 02:24:45 & California Ave \\& Cortez St & 17660 &  &  & 41.90033 & -87.69670 & 41.90 & -87.70 & casual\\\\\n",
       "\t6 & 5D8969F88C773979 & electric\\_bike & 2021-01-09 14:24:07 & 2021-01-09 15:17:54 & California Ave \\& Cortez St & 17660 &  &  & 41.90041 & -87.69676 & 41.94 & -87.71 & casual\\\\\n",
       "\\end{tabular}\n"
      ],
      "text/markdown": [
       "\n",
       "A data.frame: 6 × 13\n",
       "\n",
       "| <!--/--> | ride_id &lt;chr&gt; | rideable_type &lt;chr&gt; | started_at &lt;chr&gt; | ended_at &lt;chr&gt; | start_station_name &lt;chr&gt; | start_station_id &lt;chr&gt; | end_station_name &lt;chr&gt; | end_station_id &lt;chr&gt; | start_lat &lt;dbl&gt; | start_lng &lt;dbl&gt; | end_lat &lt;dbl&gt; | end_lng &lt;dbl&gt; | member_casual &lt;chr&gt; |\n",
       "|---|---|---|---|---|---|---|---|---|---|---|---|---|---|\n",
       "| 1 | E19E6F1B8D4C42ED | electric_bike | 2021-01-23 16:14:19 | 2021-01-23 16:24:44 | California Ave &amp; Cortez St | 17660 | <!----> | <!----> | 41.90034 | -87.69674 | 41.89 | -87.72 | member |\n",
       "| 2 | DC88F20C2C55F27F | electric_bike | 2021-01-27 18:43:08 | 2021-01-27 18:47:12 | California Ave &amp; Cortez St | 17660 | <!----> | <!----> | 41.90033 | -87.69671 | 41.90 | -87.69 | member |\n",
       "| 3 | EC45C94683FE3F27 | electric_bike | 2021-01-21 22:35:54 | 2021-01-21 22:37:14 | California Ave &amp; Cortez St | 17660 | <!----> | <!----> | 41.90031 | -87.69664 | 41.90 | -87.70 | member |\n",
       "| 4 | 4FA453A75AE377DB | electric_bike | 2021-01-07 13:31:13 | 2021-01-07 13:42:55 | California Ave &amp; Cortez St | 17660 | <!----> | <!----> | 41.90040 | -87.69666 | 41.92 | -87.69 | member |\n",
       "| 5 | BE5E8EB4E7263A0B | electric_bike | 2021-01-23 02:24:02 | 2021-01-23 02:24:45 | California Ave &amp; Cortez St | 17660 | <!----> | <!----> | 41.90033 | -87.69670 | 41.90 | -87.70 | casual |\n",
       "| 6 | 5D8969F88C773979 | electric_bike | 2021-01-09 14:24:07 | 2021-01-09 15:17:54 | California Ave &amp; Cortez St | 17660 | <!----> | <!----> | 41.90041 | -87.69676 | 41.94 | -87.71 | casual |\n",
       "\n"
      ],
      "text/plain": [
       "  ride_id          rideable_type started_at          ended_at           \n",
       "1 E19E6F1B8D4C42ED electric_bike 2021-01-23 16:14:19 2021-01-23 16:24:44\n",
       "2 DC88F20C2C55F27F electric_bike 2021-01-27 18:43:08 2021-01-27 18:47:12\n",
       "3 EC45C94683FE3F27 electric_bike 2021-01-21 22:35:54 2021-01-21 22:37:14\n",
       "4 4FA453A75AE377DB electric_bike 2021-01-07 13:31:13 2021-01-07 13:42:55\n",
       "5 BE5E8EB4E7263A0B electric_bike 2021-01-23 02:24:02 2021-01-23 02:24:45\n",
       "6 5D8969F88C773979 electric_bike 2021-01-09 14:24:07 2021-01-09 15:17:54\n",
       "  start_station_name         start_station_id end_station_name end_station_id\n",
       "1 California Ave & Cortez St 17660                                           \n",
       "2 California Ave & Cortez St 17660                                           \n",
       "3 California Ave & Cortez St 17660                                           \n",
       "4 California Ave & Cortez St 17660                                           \n",
       "5 California Ave & Cortez St 17660                                           \n",
       "6 California Ave & Cortez St 17660                                           \n",
       "  start_lat start_lng end_lat end_lng member_casual\n",
       "1 41.90034  -87.69674 41.89   -87.72  member       \n",
       "2 41.90033  -87.69671 41.90   -87.69  member       \n",
       "3 41.90031  -87.69664 41.90   -87.70  member       \n",
       "4 41.90040  -87.69666 41.92   -87.69  member       \n",
       "5 41.90033  -87.69670 41.90   -87.70  casual       \n",
       "6 41.90041  -87.69676 41.94   -87.71  casual       "
      ]
     },
     "metadata": {},
     "output_type": "display_data"
    }
   ],
   "source": [
    "head(datfill)"
   ]
  },
  {
   "cell_type": "code",
   "execution_count": 19,
   "id": "ffd695e0",
   "metadata": {
    "execution": {
     "iopub.execute_input": "2023-02-15T09:44:25.437372Z",
     "iopub.status.busy": "2023-02-15T09:44:25.435474Z",
     "iopub.status.idle": "2023-02-15T09:44:25.470547Z",
     "shell.execute_reply": "2023-02-15T09:44:25.467679Z"
    },
    "papermill": {
     "duration": 0.056595,
     "end_time": "2023-02-15T09:44:25.473333",
     "exception": false,
     "start_time": "2023-02-15T09:44:25.416738",
     "status": "completed"
    },
    "tags": []
   },
   "outputs": [
    {
     "name": "stdout",
     "output_type": "stream",
     "text": [
      "Rows: 5,595,063\n",
      "Columns: 13\n",
      "$ ride_id            \u001b[3m\u001b[90m<chr>\u001b[39m\u001b[23m \"E19E6F1B8D4C42ED\", \"DC88F20C2C55F27F\", \"EC45C94683…\n",
      "$ rideable_type      \u001b[3m\u001b[90m<chr>\u001b[39m\u001b[23m \"electric_bike\", \"electric_bike\", \"electric_bike\", …\n",
      "$ started_at         \u001b[3m\u001b[90m<chr>\u001b[39m\u001b[23m \"2021-01-23 16:14:19\", \"2021-01-27 18:43:08\", \"2021…\n",
      "$ ended_at           \u001b[3m\u001b[90m<chr>\u001b[39m\u001b[23m \"2021-01-23 16:24:44\", \"2021-01-27 18:47:12\", \"2021…\n",
      "$ start_station_name \u001b[3m\u001b[90m<chr>\u001b[39m\u001b[23m \"California Ave & Cortez St\", \"California Ave & Cor…\n",
      "$ start_station_id   \u001b[3m\u001b[90m<chr>\u001b[39m\u001b[23m \"17660\", \"17660\", \"17660\", \"17660\", \"17660\", \"17660…\n",
      "$ end_station_name   \u001b[3m\u001b[90m<chr>\u001b[39m\u001b[23m \"\", \"\", \"\", \"\", \"\", \"\", \"\", \"\", \"\", \"Wood St & Augu…\n",
      "$ end_station_id     \u001b[3m\u001b[90m<chr>\u001b[39m\u001b[23m \"\", \"\", \"\", \"\", \"\", \"\", \"\", \"\", \"\", \"657\", \"13258\",…\n",
      "$ start_lat          \u001b[3m\u001b[90m<dbl>\u001b[39m\u001b[23m 41.90034, 41.90033, 41.90031, 41.90040, 41.90033, 4…\n",
      "$ start_lng          \u001b[3m\u001b[90m<dbl>\u001b[39m\u001b[23m -87.69674, -87.69671, -87.69664, -87.69666, -87.696…\n",
      "$ end_lat            \u001b[3m\u001b[90m<dbl>\u001b[39m\u001b[23m 41.89000, 41.90000, 41.90000, 41.92000, 41.90000, 4…\n",
      "$ end_lng            \u001b[3m\u001b[90m<dbl>\u001b[39m\u001b[23m -87.72000, -87.69000, -87.70000, -87.69000, -87.700…\n",
      "$ member_casual      \u001b[3m\u001b[90m<chr>\u001b[39m\u001b[23m \"member\", \"member\", \"member\", \"member\", \"casual\", \"…\n"
     ]
    }
   ],
   "source": [
    "glimpse(datfill)"
   ]
  },
  {
   "cell_type": "code",
   "execution_count": 20,
   "id": "92d5c9eb",
   "metadata": {
    "execution": {
     "iopub.execute_input": "2023-02-15T09:44:25.511651Z",
     "iopub.status.busy": "2023-02-15T09:44:25.509863Z",
     "iopub.status.idle": "2023-02-15T09:44:25.546948Z",
     "shell.execute_reply": "2023-02-15T09:44:25.544668Z"
    },
    "papermill": {
     "duration": 0.059763,
     "end_time": "2023-02-15T09:44:25.549696",
     "exception": false,
     "start_time": "2023-02-15T09:44:25.489933",
     "status": "completed"
    },
    "tags": []
   },
   "outputs": [
    {
     "name": "stdout",
     "output_type": "stream",
     "text": [
      "'data.frame':\t5595063 obs. of  13 variables:\n",
      " $ ride_id           : chr  \"E19E6F1B8D4C42ED\" \"DC88F20C2C55F27F\" \"EC45C94683FE3F27\" \"4FA453A75AE377DB\" ...\n",
      " $ rideable_type     : chr  \"electric_bike\" \"electric_bike\" \"electric_bike\" \"electric_bike\" ...\n",
      " $ started_at        : chr  \"2021-01-23 16:14:19\" \"2021-01-27 18:43:08\" \"2021-01-21 22:35:54\" \"2021-01-07 13:31:13\" ...\n",
      " $ ended_at          : chr  \"2021-01-23 16:24:44\" \"2021-01-27 18:47:12\" \"2021-01-21 22:37:14\" \"2021-01-07 13:42:55\" ...\n",
      " $ start_station_name: chr  \"California Ave & Cortez St\" \"California Ave & Cortez St\" \"California Ave & Cortez St\" \"California Ave & Cortez St\" ...\n",
      " $ start_station_id  : chr  \"17660\" \"17660\" \"17660\" \"17660\" ...\n",
      " $ end_station_name  : chr  \"\" \"\" \"\" \"\" ...\n",
      " $ end_station_id    : chr  \"\" \"\" \"\" \"\" ...\n",
      " $ start_lat         : num  41.9 41.9 41.9 41.9 41.9 ...\n",
      " $ start_lng         : num  -87.7 -87.7 -87.7 -87.7 -87.7 ...\n",
      " $ end_lat           : num  41.9 41.9 41.9 41.9 41.9 ...\n",
      " $ end_lng           : num  -87.7 -87.7 -87.7 -87.7 -87.7 ...\n",
      " $ member_casual     : chr  \"member\" \"member\" \"member\" \"member\" ...\n"
     ]
    }
   ],
   "source": [
    "str(datfill)"
   ]
  },
  {
   "cell_type": "code",
   "execution_count": 21,
   "id": "e944ff41",
   "metadata": {
    "execution": {
     "iopub.execute_input": "2023-02-15T09:44:25.586511Z",
     "iopub.status.busy": "2023-02-15T09:44:25.584613Z",
     "iopub.status.idle": "2023-02-15T09:44:27.432032Z",
     "shell.execute_reply": "2023-02-15T09:44:27.430172Z"
    },
    "papermill": {
     "duration": 1.867971,
     "end_time": "2023-02-15T09:44:27.434402",
     "exception": false,
     "start_time": "2023-02-15T09:44:25.566431",
     "status": "completed"
    },
    "tags": []
   },
   "outputs": [
    {
     "data": {
      "text/plain": [
       "   ride_id          rideable_type       started_at          ended_at        \n",
       " Length:5595063     Length:5595063     Length:5595063     Length:5595063    \n",
       " Class :character   Class :character   Class :character   Class :character  \n",
       " Mode  :character   Mode  :character   Mode  :character   Mode  :character  \n",
       "                                                                            \n",
       "                                                                            \n",
       "                                                                            \n",
       "                                                                            \n",
       " start_station_name start_station_id   end_station_name   end_station_id    \n",
       " Length:5595063     Length:5595063     Length:5595063     Length:5595063    \n",
       " Class :character   Class :character   Class :character   Class :character  \n",
       " Mode  :character   Mode  :character   Mode  :character   Mode  :character  \n",
       "                                                                            \n",
       "                                                                            \n",
       "                                                                            \n",
       "                                                                            \n",
       "   start_lat       start_lng         end_lat         end_lng      \n",
       " Min.   :41.64   Min.   :-87.84   Min.   :41.39   Min.   :-88.97  \n",
       " 1st Qu.:41.88   1st Qu.:-87.66   1st Qu.:41.88   1st Qu.:-87.66  \n",
       " Median :41.90   Median :-87.64   Median :41.90   Median :-87.64  \n",
       " Mean   :41.90   Mean   :-87.65   Mean   :41.90   Mean   :-87.65  \n",
       " 3rd Qu.:41.93   3rd Qu.:-87.63   3rd Qu.:41.93   3rd Qu.:-87.63  \n",
       " Max.   :42.07   Max.   :-87.52   Max.   :42.17   Max.   :-87.49  \n",
       "                                  NA's   :4771    NA's   :4771    \n",
       " member_casual     \n",
       " Length:5595063    \n",
       " Class :character  \n",
       " Mode  :character  \n",
       "                   \n",
       "                   \n",
       "                   \n",
       "                   "
      ]
     },
     "metadata": {},
     "output_type": "display_data"
    }
   ],
   "source": [
    "summary(datfill)"
   ]
  },
  {
   "cell_type": "code",
   "execution_count": 22,
   "id": "c26d9baf",
   "metadata": {
    "execution": {
     "iopub.execute_input": "2023-02-15T09:44:27.471066Z",
     "iopub.status.busy": "2023-02-15T09:44:27.469275Z",
     "shell.execute_reply": "2023-02-15T09:45:33.713422Z"
    },
    "papermill": {
     "duration": 66.267189,
     "end_time": "2023-02-15T09:45:33.717462",
     "exception": false,
     "start_time": "2023-02-15T09:44:27.450273",
     "status": "completed"
    },
    "tags": []
   },
   "outputs": [],
   "source": [
    "skim_without_charts(datfill)"
   ]
  },
  {
   "cell_type": "code",
   "execution_count": null,
   "id": "b85fa0b6",
   "metadata": {
    "execution": {
     "iopub.execute_input": "2023-02-14T14:39:53.052457Z",
     "iopub.status.busy": "2023-02-14T14:39:53.051013Z",
     "iopub.status.idle": "2023-02-14T14:39:53.079848Z"
    },
    "papermill": {
     "duration": null,
     "end_time": null,
     "exception": null,
     "start_time": null,
     "status": "completed"
    },
    "tags": []
   },
   "outputs": [],
   "source": [
    "head(datfill)"
   ]
  },
  {
   "cell_type": "code",
   "execution_count": null,
   "id": "4b30b548",
   "metadata": {
    "execution": {
     "iopub.execute_input": "2023-02-14T14:39:53.084132Z",
     "iopub.status.busy": "2023-02-14T14:39:53.082180Z",
     "iopub.status.idle": "2023-02-14T14:39:54.889831Z"
    },
    "papermill": {
     "duration": null,
     "end_time": null,
     "exception": null,
     "start_time": null,
     "status": "completed"
    },
    "tags": []
   },
   "outputs": [],
   "source": [
    "sum(is.na(datfill))"
   ]
  },
  {
   "cell_type": "markdown",
   "id": "49708116",
   "metadata": {
    "papermill": {
     "duration": null,
     "end_time": null,
     "exception": null,
     "start_time": null,
     "status": "completed"
    },
    "tags": []
   },
   "source": [
    "# Cleaning your data"
   ]
  },
  {
   "cell_type": "markdown",
   "id": "bec002d8",
   "metadata": {
    "papermill": {
     "duration": null,
     "end_time": null,
     "exception": null,
     "start_time": null,
     "status": "completed"
    },
    "tags": []
   },
   "source": [
    "We need to check for duplicated and errors in the data that might lead to issues on bias or credibility.\n",
    "We need to drop NA values.\n",
    "I will drop na value and change the format of date colomn as it's formatted as \"chr\" type. We will load library \"lubridate\" to achieve that.\n",
    "\n",
    "\n",
    "\n",
    "Also looking at the colnames we need to select just those columns that give insights about behavioural differences between casual riders and annual members in terms of bike utilisation, such as:\n",
    "\n",
    "trip_id,starttime,to_station_id\n",
    "start_station_id\n",
    "end_station_name\n",
    "\n",
    "We have to remove “rideable_types” as well , because the rideable type data is only available in “q1_2020” and we do not have a meta dataset that contains details of ridable_type details according to bike ID.  We can simply select the required column in the new dataf"
   ]
  },
  {
   "cell_type": "code",
   "execution_count": null,
   "id": "d647ede5",
   "metadata": {
    "execution": {
     "iopub.execute_input": "2023-02-14T14:39:54.894839Z",
     "iopub.status.busy": "2023-02-14T14:39:54.893302Z",
     "iopub.status.idle": "2023-02-14T14:39:55.923929Z"
    },
    "papermill": {
     "duration": null,
     "end_time": null,
     "exception": null,
     "start_time": null,
     "status": "completed"
    },
    "tags": []
   },
   "outputs": [],
   "source": [
    "new_datfill <- drop_na(datfill)"
   ]
  },
  {
   "cell_type": "code",
   "execution_count": null,
   "id": "5012601f",
   "metadata": {
    "execution": {
     "iopub.execute_input": "2023-02-14T14:39:55.927791Z",
     "iopub.status.busy": "2023-02-14T14:39:55.926502Z",
     "iopub.status.idle": "2023-02-14T14:39:57.968574Z"
    },
    "papermill": {
     "duration": null,
     "end_time": null,
     "exception": null,
     "start_time": null,
     "status": "completed"
    },
    "tags": []
   },
   "outputs": [],
   "source": [
    "sum(is.na(new_datfill))"
   ]
  },
  {
   "cell_type": "code",
   "execution_count": null,
   "id": "011b5072",
   "metadata": {
    "execution": {
     "iopub.execute_input": "2023-02-14T14:39:57.972045Z",
     "iopub.status.busy": "2023-02-14T14:39:57.970772Z",
     "iopub.status.idle": "2023-02-14T14:39:57.984006Z"
    },
    "papermill": {
     "duration": null,
     "end_time": null,
     "exception": null,
     "start_time": null,
     "status": "completed"
    },
    "tags": []
   },
   "outputs": [],
   "source": [
    "library(lubridate)"
   ]
  },
  {
   "cell_type": "markdown",
   "id": "1cd1297a",
   "metadata": {
    "papermill": {
     "duration": null,
     "end_time": null,
     "exception": null,
     "start_time": null,
     "status": "completed"
    },
    "tags": []
   },
   "source": [
    "### Correct the date format"
   ]
  },
  {
   "cell_type": "code",
   "execution_count": null,
   "id": "97e8001b",
   "metadata": {
    "execution": {
     "iopub.execute_input": "2023-02-14T14:39:57.987424Z",
     "iopub.status.busy": "2023-02-14T14:39:57.986171Z",
     "iopub.status.idle": "2023-02-14T14:40:13.237944Z"
    },
    "papermill": {
     "duration": null,
     "end_time": null,
     "exception": null,
     "start_time": null,
     "status": "completed"
    },
    "tags": []
   },
   "outputs": [],
   "source": [
    "new_datfill$date <- as.Date(new_datfill$started_at)\n",
    "new_datfill$month <- format(as.Date(new_datfill$date), \"%m\")"
   ]
  },
  {
   "cell_type": "code",
   "execution_count": null,
   "id": "9c0bdc90",
   "metadata": {
    "execution": {
     "iopub.execute_input": "2023-02-14T14:40:13.242078Z",
     "iopub.status.busy": "2023-02-14T14:40:13.240589Z",
     "iopub.status.idle": "2023-02-14T14:40:13.347929Z"
    },
    "papermill": {
     "duration": null,
     "end_time": null,
     "exception": null,
     "start_time": null,
     "status": "completed"
    },
    "tags": []
   },
   "outputs": [],
   "source": [
    "unique(new_datfill$month)"
   ]
  },
  {
   "cell_type": "markdown",
   "id": "2c8eb590",
   "metadata": {
    "papermill": {
     "duration": null,
     "end_time": null,
     "exception": null,
     "start_time": null,
     "status": "completed"
    },
    "tags": []
   },
   "source": [
    "### Create new useful columns\n",
    "l think it's useful to create new columns are ride_length to calculate how long the clients ride, day_of_week to see the frequency on which weekday are the highest, ride_distance to calculate how far clients ride"
   ]
  },
  {
   "cell_type": "code",
   "execution_count": null,
   "id": "f66b99ef",
   "metadata": {
    "execution": {
     "iopub.execute_input": "2023-02-14T14:40:13.351887Z",
     "iopub.status.busy": "2023-02-14T14:40:13.350504Z",
     "iopub.status.idle": "2023-02-14T14:40:52.385130Z"
    },
    "papermill": {
     "duration": null,
     "end_time": null,
     "exception": null,
     "start_time": null,
     "status": "completed"
    },
    "tags": []
   },
   "outputs": [],
   "source": [
    "library(geosphere)\n",
    "new_datfill$ride_length<- difftime(new_datfill$ended_at,new_datfill$started_at, units=c(\"mins\"))\n",
    "\n",
    "\n",
    "new_datfill$day_of_week <- format(as.Date(new_datfill$date), \"%A\")\n",
    "\n",
    "new_datfill$ride_distance <- distGeo(matrix(c(new_datfill$start_lng, new_datfill$start_lat), ncol = 2),\n",
    "                                       matrix(c(new_datfill$end_lng, new_datfill$end_lat), ncol = 2))\n",
    "new_datfill$ride_distance <- new_datfill$ride_distance/1000\n"
   ]
  },
  {
   "cell_type": "code",
   "execution_count": null,
   "id": "b70fde97",
   "metadata": {
    "execution": {
     "iopub.execute_input": "2023-02-14T14:40:52.390716Z",
     "iopub.status.busy": "2023-02-14T14:40:52.389011Z",
     "iopub.status.idle": "2023-02-14T14:40:52.423058Z"
    },
    "papermill": {
     "duration": null,
     "end_time": null,
     "exception": null,
     "start_time": null,
     "status": "completed"
    },
    "tags": []
   },
   "outputs": [],
   "source": [
    "head(new_datfill)"
   ]
  },
  {
   "cell_type": "markdown",
   "id": "e931eb0d",
   "metadata": {
    "papermill": {
     "duration": null,
     "end_time": null,
     "exception": null,
     "start_time": null,
     "status": "completed"
    },
    "tags": []
   },
   "source": [
    "### Saving the result as a CSV"
   ]
  },
  {
   "cell_type": "code",
   "execution_count": null,
   "id": "1ea61368",
   "metadata": {
    "execution": {
     "iopub.execute_input": "2023-02-14T14:40:52.428336Z",
     "iopub.status.busy": "2023-02-14T14:40:52.426616Z",
     "iopub.status.idle": "2023-02-14T14:42:37.208664Z"
    },
    "papermill": {
     "duration": null,
     "end_time": null,
     "exception": null,
     "start_time": null,
     "status": "completed"
    },
    "tags": []
   },
   "outputs": [],
   "source": [
    "new_datfill %>%\n",
    "  write.csv(\"Bicyle_Cyclist_clean_data.csv\")"
   ]
  },
  {
   "cell_type": "markdown",
   "id": "7c51b5a8",
   "metadata": {
    "papermill": {
     "duration": null,
     "end_time": null,
     "exception": null,
     "start_time": null,
     "status": "completed"
    },
    "tags": []
   },
   "source": [
    "### Guiding questions\n",
    "What tools are you choosing and why?\n",
    "I'm using R for this project, for two main reasons: Because of the large dataset and to gather experience with the language.\n",
    "\n",
    "### Have you ensured your data’s integrity?\n",
    "Yes, the data is consistent throughout the columns.\n",
    "\n",
    "### What steps have you taken to ensure that your data is clean?\n",
    "First the duplicated values where removed, then the columns where formatted to their correct format.\n",
    "\n",
    "### How can you verify that your data is clean and ready to analyze?\n",
    "It can be verified by this notebook.\n",
    "\n",
    "### Have you documented your cleaning process so you can review and share those results?\n",
    "Yes, it's all documented in this R notebook."
   ]
  },
  {
   "cell_type": "markdown",
   "id": "0773c436",
   "metadata": {
    "papermill": {
     "duration": null,
     "end_time": null,
     "exception": null,
     "start_time": null,
     "status": "completed"
    },
    "tags": []
   },
   "source": [
    "### Key tasks\n",
    "###### [x] Check the data for errors.\n",
    "###### [x] Choose your tools.\n",
    "###### [x] Transform the data so you can work with it eectively\n",
    "###### [x] Document the cleaning process.\n",
    "\n",
    "### Deliverable\n",
    "##### [x] Documentation of any cleaning or manipulation of data"
   ]
  },
  {
   "cell_type": "markdown",
   "id": "fa907b0d",
   "metadata": {
    "papermill": {
     "duration": null,
     "end_time": null,
     "exception": null,
     "start_time": null,
     "status": "completed"
    },
    "tags": []
   },
   "source": [
    "# Analyze\n",
    "The data exploration will consist of building a profile for annual members and how they differ from casual riders.\n",
    "\n",
    "Putting in a new variable with a simpler name will help reduce some typing in the future."
   ]
  },
  {
   "cell_type": "code",
   "execution_count": null,
   "id": "542b553c",
   "metadata": {
    "execution": {
     "iopub.execute_input": "2023-02-14T14:42:37.212461Z",
     "iopub.status.busy": "2023-02-14T14:42:37.211052Z",
     "iopub.status.idle": "2023-02-14T14:42:37.470587Z"
    },
    "papermill": {
     "duration": null,
     "end_time": null,
     "exception": null,
     "start_time": null,
     "status": "completed"
    },
    "tags": []
   },
   "outputs": [],
   "source": [
    "data_group <- new_datfill %>% \n",
    "  group_by(member_casual) %>% \n",
    "  dplyr::summarise(avg_time = mean(ride_length), avg_distance = mean(ride_distance)) %>% \n",
    "  as.data.frame()"
   ]
  },
  {
   "cell_type": "code",
   "execution_count": null,
   "id": "66b036b0",
   "metadata": {
    "execution": {
     "iopub.execute_input": "2023-02-14T14:42:37.474147Z",
     "iopub.status.busy": "2023-02-14T14:42:37.472856Z",
     "iopub.status.idle": "2023-02-14T14:42:37.485968Z"
    },
    "papermill": {
     "duration": null,
     "end_time": null,
     "exception": null,
     "start_time": null,
     "status": "completed"
    },
    "tags": []
   },
   "outputs": [],
   "source": [
    "library(ggplot2)"
   ]
  },
  {
   "cell_type": "code",
   "execution_count": null,
   "id": "757d19cd",
   "metadata": {
    "execution": {
     "iopub.execute_input": "2023-02-14T14:42:37.489535Z",
     "iopub.status.busy": "2023-02-14T14:42:37.488234Z",
     "iopub.status.idle": "2023-02-14T14:42:37.791155Z"
    },
    "papermill": {
     "duration": null,
     "end_time": null,
     "exception": null,
     "start_time": null,
     "status": "completed"
    },
    "tags": []
   },
   "outputs": [],
   "source": [
    "ggplot(data = data_group) + \n",
    "  geom_col(mapping=aes(x=member_casual,y=avg_distance,fill=member_casual), show.legend = TRUE)+\n",
    "  labs(title = \"Avg travel distance by User type\",x=\"User Type\",y=\"Mean distance In Km\")"
   ]
  },
  {
   "cell_type": "markdown",
   "id": "6606fb00",
   "metadata": {
    "papermill": {
     "duration": null,
     "end_time": null,
     "exception": null,
     "start_time": null,
     "status": "completed"
    },
    "tags": []
   },
   "source": [
    "## Analysis\n",
    "Throughout the year mean distance in KM covered by casual riders was more than distance covered by members."
   ]
  },
  {
   "cell_type": "code",
   "execution_count": null,
   "id": "d4d72eff",
   "metadata": {
    "execution": {
     "iopub.execute_input": "2023-02-14T14:42:37.795661Z",
     "iopub.status.busy": "2023-02-14T14:42:37.794191Z",
     "iopub.status.idle": "2023-02-14T14:42:38.079922Z"
    },
    "papermill": {
     "duration": null,
     "end_time": null,
     "exception": null,
     "start_time": null,
     "status": "completed"
    },
    "tags": []
   },
   "outputs": [],
   "source": [
    "ggplot(data = data_group) + \n",
    "  geom_col(mapping=aes(x = member_casual, y = avg_time, fill=member_casual), show.legend = TRUE)+\n",
    "  labs(title = \"Avg travel time by User type\",x=\"User Type\",y=\"Avg time in Mins\")"
   ]
  },
  {
   "cell_type": "markdown",
   "id": "3640ea69",
   "metadata": {
    "papermill": {
     "duration": null,
     "end_time": null,
     "exception": null,
     "start_time": null,
     "status": "completed"
    },
    "tags": []
   },
   "source": [
    "## Analysis\n",
    "The time travelled by casual riders was more than member on average thgroughout the year"
   ]
  },
  {
   "cell_type": "code",
   "execution_count": null,
   "id": "c5c0c006",
   "metadata": {
    "execution": {
     "iopub.execute_input": "2023-02-14T14:42:38.084185Z",
     "iopub.status.busy": "2023-02-14T14:42:38.082707Z",
     "iopub.status.idle": "2023-02-14T14:42:55.113096Z"
    },
    "papermill": {
     "duration": null,
     "end_time": null,
     "exception": null,
     "start_time": null,
     "status": "completed"
    },
    "tags": []
   },
   "outputs": [],
   "source": [
    "new_datfill %>% \n",
    "  mutate(months = month(started_at, label = TRUE)) %>% \n",
    "  group_by(member_casual, month) %>% \n",
    "  dplyr::summarise(number_of_rides = n(),\n",
    "            average_duration = mean(ride_length), .groups = 'drop' ) %>% \n",
    "  arrange(member_casual, month) %>% \n",
    "  ggplot(aes(x = month, y = number_of_rides, fill = member_casual))+\n",
    "  geom_col(position = \"dodge\")+\n",
    "  labs(title = \"Number of rides by User type during the month\",x=\"January to December\",y=\"Number of rides\", fill=\"User type\") +\n",
    "  theme(legend.position=\"top\")"
   ]
  },
  {
   "cell_type": "markdown",
   "id": "6db171e2",
   "metadata": {
    "papermill": {
     "duration": null,
     "end_time": null,
     "exception": null,
     "start_time": null,
     "status": "completed"
    },
    "tags": []
   },
   "source": [
    "# Analysis\n",
    "Casual riders are normaly distributed throughout the year\n",
    "\n",
    "Casual riders tend to increase in February and there are maximum in July because in the United States, summer break is approximately two and a half months, with students typically finishing the school year between late-May and mid-June and starting the new year between late-August and early-September. Thus we have more riders during holiday."
   ]
  },
  {
   "cell_type": "code",
   "execution_count": null,
   "id": "3538d16d",
   "metadata": {
    "execution": {
     "iopub.execute_input": "2023-02-14T14:42:55.117282Z",
     "iopub.status.busy": "2023-02-14T14:42:55.115870Z",
     "iopub.status.idle": "2023-02-14T14:43:11.450580Z"
    },
    "papermill": {
     "duration": null,
     "end_time": null,
     "exception": null,
     "start_time": null,
     "status": "completed"
    },
    "tags": []
   },
   "outputs": [],
   "source": [
    "new_datfill %>% \n",
    "  mutate( weekday = wday(started_at, label = TRUE)) %>% \n",
    "  group_by(member_casual, weekday) %>% \n",
    "  dplyr::summarise(number_of_rides = n(), average_duration = mean(ride_length), .groups = \"drop\") %>% \n",
    "  arrange(member_casual, weekday) %>% \n",
    "ggplot()+\n",
    "  geom_col(mapping = aes(x = weekday, y = number_of_rides, fill = member_casual), position = \"dodge\")+\n",
    "  labs(title = \"Number of rides by user type during a week\", x = \"Weekdays\", y = \"Number of rides\", fill = \"usertype\")+\n",
    "  theme(legend.position = \"top\")"
   ]
  },
  {
   "cell_type": "code",
   "execution_count": null,
   "id": "9a249ad7",
   "metadata": {
    "execution": {
     "iopub.execute_input": "2023-02-14T14:43:11.454341Z",
     "iopub.status.busy": "2023-02-14T14:43:11.452896Z",
     "iopub.status.idle": "2023-02-14T14:43:11.483959Z"
    },
    "papermill": {
     "duration": null,
     "end_time": null,
     "exception": null,
     "start_time": null,
     "status": "completed"
    },
    "tags": []
   },
   "outputs": [],
   "source": [
    "head(new_datfill)"
   ]
  },
  {
   "cell_type": "code",
   "execution_count": null,
   "id": "2f3a2bb9",
   "metadata": {
    "execution": {
     "iopub.execute_input": "2023-02-14T14:43:11.487961Z",
     "iopub.status.busy": "2023-02-14T14:43:11.486528Z",
     "iopub.status.idle": "2023-02-14T14:43:11.822752Z"
    },
    "papermill": {
     "duration": null,
     "end_time": null,
     "exception": null,
     "start_time": null,
     "status": "completed"
    },
    "tags": []
   },
   "outputs": [],
   "source": [
    "new_datfill %>% \n",
    "  group_by(member_casual,day_of_week) %>%  \n",
    "  summarise(number_of_rides = n(),total_duration_mins = sum(ride_distance)) %>% \n",
    "  arrange(member_casual, desc(number_of_rides))"
   ]
  },
  {
   "cell_type": "markdown",
   "id": "9f28cf5d",
   "metadata": {
    "papermill": {
     "duration": null,
     "end_time": null,
     "exception": null,
     "start_time": null,
     "status": "completed"
    },
    "tags": []
   },
   "source": [
    "# Analysis\n",
    "We have the highest number of casual rides on Saturday 557187 followed by Sunday 480395\n",
    "\n",
    "Least number of casual rides happens on Tuesday\n",
    "\n",
    "Highest number of member rides happens on Wednesdsay and the least number of rides for members happens on Sunday"
   ]
  },
  {
   "cell_type": "code",
   "execution_count": null,
   "id": "7d95fe84",
   "metadata": {
    "execution": {
     "iopub.execute_input": "2023-02-14T14:43:11.826405Z",
     "iopub.status.busy": "2023-02-14T14:43:11.825070Z",
     "iopub.status.idle": "2023-02-14T14:43:12.367944Z"
    },
    "papermill": {
     "duration": null,
     "end_time": null,
     "exception": null,
     "start_time": null,
     "status": "completed"
    },
    "tags": []
   },
   "outputs": [],
   "source": [
    "new_datfill %>%  \n",
    "  group_by(member_casual, day_of_week) %>% \n",
    "  summarise(number_of_rides = n()) %>% \n",
    "  arrange(member_casual, day_of_week)  %>% \n",
    "  ggplot(aes(x = day_of_week, y = number_of_rides, fill = member_casual)) +\n",
    "  labs(title =\"Total rides by customer type Vs. Day of the week\") +\n",
    "  geom_col(width=0.5, position = position_dodge(width=0.5)) +\n",
    "  scale_y_continuous(labels = function(x) format(x, scientific = FALSE))"
   ]
  },
  {
   "cell_type": "markdown",
   "id": "31c541f5",
   "metadata": {
    "papermill": {
     "duration": null,
     "end_time": null,
     "exception": null,
     "start_time": null,
     "status": "completed"
    },
    "tags": []
   },
   "source": [
    "### Share \n",
    "After finding the average ride time and average time ride distance, I figure out during the summertime, casual clients take more rides than member clients, it indicates that casual user would like to ride bikes in the summer.\n",
    "\n",
    "And about the weekly, I found that casual clients ride more at the weekend especially Saturday and Sunday, it seems like most casual users are likely to be students or go on working.\n",
    "\n",
    "As the Cyclistic has three types of bikes, I analyze the data to figure out which type of bike users preferred more. I found that both users types like to ride classic bikes. After the Covid Pendamic, all human being is now conscious about their health, So, it might be the reason that most users like to ride classic bikes.\n",
    "\n",
    "And when it comes to the Cyclistic's bikes type, most of clients tend to ride classic bikes, it's really healthy for people to ride a bike on their on physique instead of using electricity."
   ]
  },
  {
   "cell_type": "markdown",
   "id": "2f13dacc",
   "metadata": {
    "papermill": {
     "duration": null,
     "end_time": null,
     "exception": null,
     "start_time": null,
     "status": "completed"
    },
    "tags": []
   },
   "source": [
    "## Analysis\n",
    "\n",
    "Generally casual riders are less than members during the week\n",
    "\n",
    "Note\n",
    "consistent number of rides memebers with less spread over weekdays\n",
    "\n",
    " "
   ]
  },
  {
   "cell_type": "code",
   "execution_count": null,
   "id": "257a55e7",
   "metadata": {
    "execution": {
     "iopub.execute_input": "2023-02-14T14:43:12.371812Z",
     "iopub.status.busy": "2023-02-14T14:43:12.370409Z",
     "iopub.status.idle": "2023-02-14T14:43:12.403354Z"
    },
    "papermill": {
     "duration": null,
     "end_time": null,
     "exception": null,
     "start_time": null,
     "status": "completed"
    },
    "tags": []
   },
   "outputs": [],
   "source": [
    "head(new_datfill)"
   ]
  },
  {
   "cell_type": "markdown",
   "id": "9b76d24b",
   "metadata": {
    "papermill": {
     "duration": null,
     "end_time": null,
     "exception": null,
     "start_time": null,
     "status": "completed"
    },
    "tags": []
   },
   "source": [
    "## Analysis\n",
    "We have more casual riders during Saturday and Sunday since more people will be off from work."
   ]
  },
  {
   "cell_type": "code",
   "execution_count": null,
   "id": "fc4794bd",
   "metadata": {
    "execution": {
     "iopub.execute_input": "2023-02-14T14:43:12.407248Z",
     "iopub.status.busy": "2023-02-14T14:43:12.405820Z",
     "iopub.status.idle": "2023-02-14T14:43:17.034164Z"
    },
    "papermill": {
     "duration": null,
     "end_time": null,
     "exception": null,
     "start_time": null,
     "status": "completed"
    },
    "tags": []
   },
   "outputs": [],
   "source": [
    "preferred_bike_b <- new_datfill %>% filter(rideable_type==\"classic_bike\" | rideable_type==\"electric_bike\")\n",
    "  \n",
    "preferred_bike_b %>%  group_by(member_casual, rideable_type) %>% \n",
    "  dplyr::summarise(totals = n(), .groups = \"drop\") %>%\n",
    "  ggplot()+\n",
    "  geom_col(mapping = aes(x = member_casual, y = totals, fill = rideable_type), position = \"dodge\")+\n",
    "  labs(title = \"Preferred Bike Type by Users\", x=\"User type\",y= \"Number of rides\", fill=\"Bike type\") +\n",
    "  theme_minimal() +\n",
    "  theme(legend.position=\"top\")"
   ]
  },
  {
   "cell_type": "markdown",
   "id": "cee0dac4",
   "metadata": {
    "papermill": {
     "duration": null,
     "end_time": null,
     "exception": null,
     "start_time": null,
     "status": "completed"
    },
    "tags": []
   },
   "source": [
    "## Analysis\n",
    "Casual riders make use of classic_ bike more than electric bike\n",
    "\n",
    "Member riders make use of classic_bike more than electric bike."
   ]
  },
  {
   "cell_type": "markdown",
   "id": "5f058121",
   "metadata": {
    "papermill": {
     "duration": null,
     "end_time": null,
     "exception": null,
     "start_time": null,
     "status": "completed"
    },
    "tags": []
   },
   "source": [
    "# Deliverable\n",
    "\n",
    "### Conclusions\n",
    "\n",
    "Based on ride duration in minutes of bikes by casual riders is almost twice of member riders\n",
    "\n",
    "Casual customers use bikeshare services more during weekends, while members use them consistently over the entire week.\n",
    "\n",
    "Casual riders prefer docked bikes, while classic bikes and electric bikes are used by members and casuals almost equally.\n",
    "\n",
    "Average ride duration of casual riders is more than twice that of member rider over any given day of the week cumulatively.\n",
    "\n",
    "\n",
    "### Recommendations\n",
    "\n",
    "Provide promotions for casual riders for membership subscription.\n",
    "\n",
    "Offer discounted pricing during the week so that casual riders might choose to use bikes during the week.\n",
    "\n",
    "Offer free promotion rides one working day for memmbership riders to attract casual riders to subscribe for membership\n",
    "\n",
    "Provide attractive promotions for casual riders for membership subscription, so that on weekends members automatically will contribute to more profit.\n",
    "\n",
    "\n",
    "\n"
   ]
  }
 ],
 "metadata": {
  "kernelspec": {
   "display_name": "R",
   "language": "R",
   "name": "ir"
  },
  "language_info": {
   "codemirror_mode": "r",
   "file_extension": ".r",
   "mimetype": "text/x-r-source",
   "name": "R",
   "pygments_lexer": "r",
   "version": "4.0.5"
  },
  "papermill": {
   "default_parameters": {},
   "duration": 228.463303,
   "end_time": "2023-02-15T09:45:34.156064",
   "environment_variables": {},
   "exception": null,
   "input_path": "__notebook__.ipynb",
   "output_path": "__notebook__.ipynb",
   "parameters": {},
   "start_time": "2023-02-15T09:41:45.692761",
   "version": "2.4.0"
  }
 },
 "nbformat": 4,
 "nbformat_minor": 5
}
